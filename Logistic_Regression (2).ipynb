{
  "nbformat": 4,
  "nbformat_minor": 0,
  "metadata": {
    "kernelspec": {
      "display_name": "Python 3",
      "language": "python",
      "name": "python3"
    },
    "language_info": {
      "codemirror_mode": {
        "name": "ipython",
        "version": 3
      },
      "file_extension": ".py",
      "mimetype": "text/x-python",
      "name": "python",
      "nbconvert_exporter": "python",
      "pygments_lexer": "ipython3",
      "version": "3.8.5"
    },
    "colab": {
      "name": "Logistic Regression.ipynb",
      "provenance": []
    }
  },
  "cells": [
    {
      "cell_type": "code",
      "metadata": {
        "id": "wFcXhEZau7mu"
      },
      "source": [
        "\n",
        "import numpy as np\n",
        "import pandas as pd\n",
        "\n"
      ],
      "execution_count": 1,
      "outputs": []
    },
    {
      "cell_type": "code",
      "metadata": {
        "id": "oSFW2f4_u7mv"
      },
      "source": [
        "\n",
        "churn_data = pd.read_csv('/content/churn_data.csv')\n",
        "customer_data =pd.read_csv('/content/customer_data.csv')\n",
        "internet_data = pd.read_csv('/content/internet_data.csv')"
      ],
      "execution_count": 2,
      "outputs": []
    },
    {
      "cell_type": "code",
      "metadata": {
        "colab": {
          "base_uri": "https://localhost:8080/",
          "height": 206
        },
        "id": "vD85Lj9Iu7mw",
        "outputId": "ccb99c97-3872-4905-c76f-39fe05214331"
      },
      "source": [
        "\n",
        "df_1 = pd.merge(churn_data,customer_data,how='inner',on='customerID')\n",
        "df_1.head()"
      ],
      "execution_count": 3,
      "outputs": [
        {
          "output_type": "execute_result",
          "data": {
            "text/html": [
              "<div>\n",
              "<style scoped>\n",
              "    .dataframe tbody tr th:only-of-type {\n",
              "        vertical-align: middle;\n",
              "    }\n",
              "\n",
              "    .dataframe tbody tr th {\n",
              "        vertical-align: top;\n",
              "    }\n",
              "\n",
              "    .dataframe thead th {\n",
              "        text-align: right;\n",
              "    }\n",
              "</style>\n",
              "<table border=\"1\" class=\"dataframe\">\n",
              "  <thead>\n",
              "    <tr style=\"text-align: right;\">\n",
              "      <th></th>\n",
              "      <th>customerID</th>\n",
              "      <th>tenure</th>\n",
              "      <th>PhoneService</th>\n",
              "      <th>Contract</th>\n",
              "      <th>PaperlessBilling</th>\n",
              "      <th>PaymentMethod</th>\n",
              "      <th>MonthlyCharges</th>\n",
              "      <th>TotalCharges</th>\n",
              "      <th>Churn</th>\n",
              "      <th>gender</th>\n",
              "      <th>SeniorCitizen</th>\n",
              "      <th>Partner</th>\n",
              "      <th>Dependents</th>\n",
              "    </tr>\n",
              "  </thead>\n",
              "  <tbody>\n",
              "    <tr>\n",
              "      <th>0</th>\n",
              "      <td>7590-VHVEG</td>\n",
              "      <td>1</td>\n",
              "      <td>No</td>\n",
              "      <td>Month-to-month</td>\n",
              "      <td>Yes</td>\n",
              "      <td>Electronic check</td>\n",
              "      <td>29.85</td>\n",
              "      <td>29.85</td>\n",
              "      <td>No</td>\n",
              "      <td>Female</td>\n",
              "      <td>0</td>\n",
              "      <td>Yes</td>\n",
              "      <td>No</td>\n",
              "    </tr>\n",
              "    <tr>\n",
              "      <th>1</th>\n",
              "      <td>5575-GNVDE</td>\n",
              "      <td>34</td>\n",
              "      <td>Yes</td>\n",
              "      <td>One year</td>\n",
              "      <td>No</td>\n",
              "      <td>Mailed check</td>\n",
              "      <td>56.95</td>\n",
              "      <td>1889.5</td>\n",
              "      <td>No</td>\n",
              "      <td>Male</td>\n",
              "      <td>0</td>\n",
              "      <td>No</td>\n",
              "      <td>No</td>\n",
              "    </tr>\n",
              "    <tr>\n",
              "      <th>2</th>\n",
              "      <td>3668-QPYBK</td>\n",
              "      <td>2</td>\n",
              "      <td>Yes</td>\n",
              "      <td>Month-to-month</td>\n",
              "      <td>Yes</td>\n",
              "      <td>Mailed check</td>\n",
              "      <td>53.85</td>\n",
              "      <td>108.15</td>\n",
              "      <td>Yes</td>\n",
              "      <td>Male</td>\n",
              "      <td>0</td>\n",
              "      <td>No</td>\n",
              "      <td>No</td>\n",
              "    </tr>\n",
              "    <tr>\n",
              "      <th>3</th>\n",
              "      <td>7795-CFOCW</td>\n",
              "      <td>45</td>\n",
              "      <td>No</td>\n",
              "      <td>One year</td>\n",
              "      <td>No</td>\n",
              "      <td>Bank transfer (automatic)</td>\n",
              "      <td>42.30</td>\n",
              "      <td>1840.75</td>\n",
              "      <td>No</td>\n",
              "      <td>Male</td>\n",
              "      <td>0</td>\n",
              "      <td>No</td>\n",
              "      <td>No</td>\n",
              "    </tr>\n",
              "    <tr>\n",
              "      <th>4</th>\n",
              "      <td>9237-HQITU</td>\n",
              "      <td>2</td>\n",
              "      <td>Yes</td>\n",
              "      <td>Month-to-month</td>\n",
              "      <td>Yes</td>\n",
              "      <td>Electronic check</td>\n",
              "      <td>70.70</td>\n",
              "      <td>151.65</td>\n",
              "      <td>Yes</td>\n",
              "      <td>Female</td>\n",
              "      <td>0</td>\n",
              "      <td>No</td>\n",
              "      <td>No</td>\n",
              "    </tr>\n",
              "  </tbody>\n",
              "</table>\n",
              "</div>"
            ],
            "text/plain": [
              "   customerID  tenure PhoneService  ... SeniorCitizen Partner Dependents\n",
              "0  7590-VHVEG       1           No  ...             0     Yes         No\n",
              "1  5575-GNVDE      34          Yes  ...             0      No         No\n",
              "2  3668-QPYBK       2          Yes  ...             0      No         No\n",
              "3  7795-CFOCW      45           No  ...             0      No         No\n",
              "4  9237-HQITU       2          Yes  ...             0      No         No\n",
              "\n",
              "[5 rows x 13 columns]"
            ]
          },
          "metadata": {},
          "execution_count": 3
        }
      ]
    },
    {
      "cell_type": "code",
      "metadata": {
        "id": "7S-KfR5Su7mw"
      },
      "source": [
        "\n",
        "telecom = pd.merge(df_1,internet_data,how='inner',on='customerID')\n"
      ],
      "execution_count": 4,
      "outputs": []
    },
    {
      "cell_type": "code",
      "metadata": {
        "colab": {
          "base_uri": "https://localhost:8080/",
          "height": 617
        },
        "id": "JaByJw2Lu7my",
        "outputId": "37c40b5a-a6fc-4a3b-c91d-a95443adbb47"
      },
      "source": [
        "\n",
        "telecom"
      ],
      "execution_count": 5,
      "outputs": [
        {
          "output_type": "execute_result",
          "data": {
            "text/html": [
              "<div>\n",
              "<style scoped>\n",
              "    .dataframe tbody tr th:only-of-type {\n",
              "        vertical-align: middle;\n",
              "    }\n",
              "\n",
              "    .dataframe tbody tr th {\n",
              "        vertical-align: top;\n",
              "    }\n",
              "\n",
              "    .dataframe thead th {\n",
              "        text-align: right;\n",
              "    }\n",
              "</style>\n",
              "<table border=\"1\" class=\"dataframe\">\n",
              "  <thead>\n",
              "    <tr style=\"text-align: right;\">\n",
              "      <th></th>\n",
              "      <th>customerID</th>\n",
              "      <th>tenure</th>\n",
              "      <th>PhoneService</th>\n",
              "      <th>Contract</th>\n",
              "      <th>PaperlessBilling</th>\n",
              "      <th>PaymentMethod</th>\n",
              "      <th>MonthlyCharges</th>\n",
              "      <th>TotalCharges</th>\n",
              "      <th>Churn</th>\n",
              "      <th>gender</th>\n",
              "      <th>SeniorCitizen</th>\n",
              "      <th>Partner</th>\n",
              "      <th>Dependents</th>\n",
              "      <th>MultipleLines</th>\n",
              "      <th>InternetService</th>\n",
              "      <th>OnlineSecurity</th>\n",
              "      <th>OnlineBackup</th>\n",
              "      <th>DeviceProtection</th>\n",
              "      <th>TechSupport</th>\n",
              "      <th>StreamingTV</th>\n",
              "      <th>StreamingMovies</th>\n",
              "    </tr>\n",
              "  </thead>\n",
              "  <tbody>\n",
              "    <tr>\n",
              "      <th>0</th>\n",
              "      <td>7590-VHVEG</td>\n",
              "      <td>1</td>\n",
              "      <td>No</td>\n",
              "      <td>Month-to-month</td>\n",
              "      <td>Yes</td>\n",
              "      <td>Electronic check</td>\n",
              "      <td>29.85</td>\n",
              "      <td>29.85</td>\n",
              "      <td>No</td>\n",
              "      <td>Female</td>\n",
              "      <td>0</td>\n",
              "      <td>Yes</td>\n",
              "      <td>No</td>\n",
              "      <td>No phone service</td>\n",
              "      <td>DSL</td>\n",
              "      <td>No</td>\n",
              "      <td>Yes</td>\n",
              "      <td>No</td>\n",
              "      <td>No</td>\n",
              "      <td>No</td>\n",
              "      <td>No</td>\n",
              "    </tr>\n",
              "    <tr>\n",
              "      <th>1</th>\n",
              "      <td>5575-GNVDE</td>\n",
              "      <td>34</td>\n",
              "      <td>Yes</td>\n",
              "      <td>One year</td>\n",
              "      <td>No</td>\n",
              "      <td>Mailed check</td>\n",
              "      <td>56.95</td>\n",
              "      <td>1889.5</td>\n",
              "      <td>No</td>\n",
              "      <td>Male</td>\n",
              "      <td>0</td>\n",
              "      <td>No</td>\n",
              "      <td>No</td>\n",
              "      <td>No</td>\n",
              "      <td>DSL</td>\n",
              "      <td>Yes</td>\n",
              "      <td>No</td>\n",
              "      <td>Yes</td>\n",
              "      <td>No</td>\n",
              "      <td>No</td>\n",
              "      <td>No</td>\n",
              "    </tr>\n",
              "    <tr>\n",
              "      <th>2</th>\n",
              "      <td>3668-QPYBK</td>\n",
              "      <td>2</td>\n",
              "      <td>Yes</td>\n",
              "      <td>Month-to-month</td>\n",
              "      <td>Yes</td>\n",
              "      <td>Mailed check</td>\n",
              "      <td>53.85</td>\n",
              "      <td>108.15</td>\n",
              "      <td>Yes</td>\n",
              "      <td>Male</td>\n",
              "      <td>0</td>\n",
              "      <td>No</td>\n",
              "      <td>No</td>\n",
              "      <td>No</td>\n",
              "      <td>DSL</td>\n",
              "      <td>Yes</td>\n",
              "      <td>Yes</td>\n",
              "      <td>No</td>\n",
              "      <td>No</td>\n",
              "      <td>No</td>\n",
              "      <td>No</td>\n",
              "    </tr>\n",
              "    <tr>\n",
              "      <th>3</th>\n",
              "      <td>7795-CFOCW</td>\n",
              "      <td>45</td>\n",
              "      <td>No</td>\n",
              "      <td>One year</td>\n",
              "      <td>No</td>\n",
              "      <td>Bank transfer (automatic)</td>\n",
              "      <td>42.30</td>\n",
              "      <td>1840.75</td>\n",
              "      <td>No</td>\n",
              "      <td>Male</td>\n",
              "      <td>0</td>\n",
              "      <td>No</td>\n",
              "      <td>No</td>\n",
              "      <td>No phone service</td>\n",
              "      <td>DSL</td>\n",
              "      <td>Yes</td>\n",
              "      <td>No</td>\n",
              "      <td>Yes</td>\n",
              "      <td>Yes</td>\n",
              "      <td>No</td>\n",
              "      <td>No</td>\n",
              "    </tr>\n",
              "    <tr>\n",
              "      <th>4</th>\n",
              "      <td>9237-HQITU</td>\n",
              "      <td>2</td>\n",
              "      <td>Yes</td>\n",
              "      <td>Month-to-month</td>\n",
              "      <td>Yes</td>\n",
              "      <td>Electronic check</td>\n",
              "      <td>70.70</td>\n",
              "      <td>151.65</td>\n",
              "      <td>Yes</td>\n",
              "      <td>Female</td>\n",
              "      <td>0</td>\n",
              "      <td>No</td>\n",
              "      <td>No</td>\n",
              "      <td>No</td>\n",
              "      <td>Fiber optic</td>\n",
              "      <td>No</td>\n",
              "      <td>No</td>\n",
              "      <td>No</td>\n",
              "      <td>No</td>\n",
              "      <td>No</td>\n",
              "      <td>No</td>\n",
              "    </tr>\n",
              "    <tr>\n",
              "      <th>...</th>\n",
              "      <td>...</td>\n",
              "      <td>...</td>\n",
              "      <td>...</td>\n",
              "      <td>...</td>\n",
              "      <td>...</td>\n",
              "      <td>...</td>\n",
              "      <td>...</td>\n",
              "      <td>...</td>\n",
              "      <td>...</td>\n",
              "      <td>...</td>\n",
              "      <td>...</td>\n",
              "      <td>...</td>\n",
              "      <td>...</td>\n",
              "      <td>...</td>\n",
              "      <td>...</td>\n",
              "      <td>...</td>\n",
              "      <td>...</td>\n",
              "      <td>...</td>\n",
              "      <td>...</td>\n",
              "      <td>...</td>\n",
              "      <td>...</td>\n",
              "    </tr>\n",
              "    <tr>\n",
              "      <th>7038</th>\n",
              "      <td>6840-RESVB</td>\n",
              "      <td>24</td>\n",
              "      <td>Yes</td>\n",
              "      <td>One year</td>\n",
              "      <td>Yes</td>\n",
              "      <td>Mailed check</td>\n",
              "      <td>84.80</td>\n",
              "      <td>1990.5</td>\n",
              "      <td>No</td>\n",
              "      <td>Male</td>\n",
              "      <td>0</td>\n",
              "      <td>Yes</td>\n",
              "      <td>Yes</td>\n",
              "      <td>Yes</td>\n",
              "      <td>DSL</td>\n",
              "      <td>Yes</td>\n",
              "      <td>No</td>\n",
              "      <td>Yes</td>\n",
              "      <td>Yes</td>\n",
              "      <td>Yes</td>\n",
              "      <td>Yes</td>\n",
              "    </tr>\n",
              "    <tr>\n",
              "      <th>7039</th>\n",
              "      <td>2234-XADUH</td>\n",
              "      <td>72</td>\n",
              "      <td>Yes</td>\n",
              "      <td>One year</td>\n",
              "      <td>Yes</td>\n",
              "      <td>Credit card (automatic)</td>\n",
              "      <td>103.20</td>\n",
              "      <td>7362.9</td>\n",
              "      <td>No</td>\n",
              "      <td>Female</td>\n",
              "      <td>0</td>\n",
              "      <td>Yes</td>\n",
              "      <td>Yes</td>\n",
              "      <td>Yes</td>\n",
              "      <td>Fiber optic</td>\n",
              "      <td>No</td>\n",
              "      <td>Yes</td>\n",
              "      <td>Yes</td>\n",
              "      <td>No</td>\n",
              "      <td>Yes</td>\n",
              "      <td>Yes</td>\n",
              "    </tr>\n",
              "    <tr>\n",
              "      <th>7040</th>\n",
              "      <td>4801-JZAZL</td>\n",
              "      <td>11</td>\n",
              "      <td>No</td>\n",
              "      <td>Month-to-month</td>\n",
              "      <td>Yes</td>\n",
              "      <td>Electronic check</td>\n",
              "      <td>29.60</td>\n",
              "      <td>346.45</td>\n",
              "      <td>No</td>\n",
              "      <td>Female</td>\n",
              "      <td>0</td>\n",
              "      <td>Yes</td>\n",
              "      <td>Yes</td>\n",
              "      <td>No phone service</td>\n",
              "      <td>DSL</td>\n",
              "      <td>Yes</td>\n",
              "      <td>No</td>\n",
              "      <td>No</td>\n",
              "      <td>No</td>\n",
              "      <td>No</td>\n",
              "      <td>No</td>\n",
              "    </tr>\n",
              "    <tr>\n",
              "      <th>7041</th>\n",
              "      <td>8361-LTMKD</td>\n",
              "      <td>4</td>\n",
              "      <td>Yes</td>\n",
              "      <td>Month-to-month</td>\n",
              "      <td>Yes</td>\n",
              "      <td>Mailed check</td>\n",
              "      <td>74.40</td>\n",
              "      <td>306.6</td>\n",
              "      <td>Yes</td>\n",
              "      <td>Male</td>\n",
              "      <td>1</td>\n",
              "      <td>Yes</td>\n",
              "      <td>No</td>\n",
              "      <td>Yes</td>\n",
              "      <td>Fiber optic</td>\n",
              "      <td>No</td>\n",
              "      <td>No</td>\n",
              "      <td>No</td>\n",
              "      <td>No</td>\n",
              "      <td>No</td>\n",
              "      <td>No</td>\n",
              "    </tr>\n",
              "    <tr>\n",
              "      <th>7042</th>\n",
              "      <td>3186-AJIEK</td>\n",
              "      <td>66</td>\n",
              "      <td>Yes</td>\n",
              "      <td>Two year</td>\n",
              "      <td>Yes</td>\n",
              "      <td>Bank transfer (automatic)</td>\n",
              "      <td>105.65</td>\n",
              "      <td>6844.5</td>\n",
              "      <td>No</td>\n",
              "      <td>Male</td>\n",
              "      <td>0</td>\n",
              "      <td>No</td>\n",
              "      <td>No</td>\n",
              "      <td>No</td>\n",
              "      <td>Fiber optic</td>\n",
              "      <td>Yes</td>\n",
              "      <td>No</td>\n",
              "      <td>Yes</td>\n",
              "      <td>Yes</td>\n",
              "      <td>Yes</td>\n",
              "      <td>Yes</td>\n",
              "    </tr>\n",
              "  </tbody>\n",
              "</table>\n",
              "<p>7043 rows × 21 columns</p>\n",
              "</div>"
            ],
            "text/plain": [
              "      customerID  tenure PhoneService  ... TechSupport StreamingTV StreamingMovies\n",
              "0     7590-VHVEG       1           No  ...          No          No              No\n",
              "1     5575-GNVDE      34          Yes  ...          No          No              No\n",
              "2     3668-QPYBK       2          Yes  ...          No          No              No\n",
              "3     7795-CFOCW      45           No  ...         Yes          No              No\n",
              "4     9237-HQITU       2          Yes  ...          No          No              No\n",
              "...          ...     ...          ...  ...         ...         ...             ...\n",
              "7038  6840-RESVB      24          Yes  ...         Yes         Yes             Yes\n",
              "7039  2234-XADUH      72          Yes  ...          No         Yes             Yes\n",
              "7040  4801-JZAZL      11           No  ...          No          No              No\n",
              "7041  8361-LTMKD       4          Yes  ...          No          No              No\n",
              "7042  3186-AJIEK      66          Yes  ...         Yes         Yes             Yes\n",
              "\n",
              "[7043 rows x 21 columns]"
            ]
          },
          "metadata": {},
          "execution_count": 5
        }
      ]
    },
    {
      "cell_type": "code",
      "metadata": {
        "colab": {
          "base_uri": "https://localhost:8080/",
          "height": 300
        },
        "id": "YuJgxPAgu7mz",
        "outputId": "41c493a3-e1af-471d-aa73-49faa03e0efb"
      },
      "source": [
        "\n",
        "telecom.describe()"
      ],
      "execution_count": 6,
      "outputs": [
        {
          "output_type": "execute_result",
          "data": {
            "text/html": [
              "<div>\n",
              "<style scoped>\n",
              "    .dataframe tbody tr th:only-of-type {\n",
              "        vertical-align: middle;\n",
              "    }\n",
              "\n",
              "    .dataframe tbody tr th {\n",
              "        vertical-align: top;\n",
              "    }\n",
              "\n",
              "    .dataframe thead th {\n",
              "        text-align: right;\n",
              "    }\n",
              "</style>\n",
              "<table border=\"1\" class=\"dataframe\">\n",
              "  <thead>\n",
              "    <tr style=\"text-align: right;\">\n",
              "      <th></th>\n",
              "      <th>tenure</th>\n",
              "      <th>MonthlyCharges</th>\n",
              "      <th>SeniorCitizen</th>\n",
              "    </tr>\n",
              "  </thead>\n",
              "  <tbody>\n",
              "    <tr>\n",
              "      <th>count</th>\n",
              "      <td>7043.000000</td>\n",
              "      <td>7043.000000</td>\n",
              "      <td>7043.000000</td>\n",
              "    </tr>\n",
              "    <tr>\n",
              "      <th>mean</th>\n",
              "      <td>32.371149</td>\n",
              "      <td>64.761692</td>\n",
              "      <td>0.162147</td>\n",
              "    </tr>\n",
              "    <tr>\n",
              "      <th>std</th>\n",
              "      <td>24.559481</td>\n",
              "      <td>30.090047</td>\n",
              "      <td>0.368612</td>\n",
              "    </tr>\n",
              "    <tr>\n",
              "      <th>min</th>\n",
              "      <td>0.000000</td>\n",
              "      <td>18.250000</td>\n",
              "      <td>0.000000</td>\n",
              "    </tr>\n",
              "    <tr>\n",
              "      <th>25%</th>\n",
              "      <td>9.000000</td>\n",
              "      <td>35.500000</td>\n",
              "      <td>0.000000</td>\n",
              "    </tr>\n",
              "    <tr>\n",
              "      <th>50%</th>\n",
              "      <td>29.000000</td>\n",
              "      <td>70.350000</td>\n",
              "      <td>0.000000</td>\n",
              "    </tr>\n",
              "    <tr>\n",
              "      <th>75%</th>\n",
              "      <td>55.000000</td>\n",
              "      <td>89.850000</td>\n",
              "      <td>0.000000</td>\n",
              "    </tr>\n",
              "    <tr>\n",
              "      <th>max</th>\n",
              "      <td>72.000000</td>\n",
              "      <td>118.750000</td>\n",
              "      <td>1.000000</td>\n",
              "    </tr>\n",
              "  </tbody>\n",
              "</table>\n",
              "</div>"
            ],
            "text/plain": [
              "            tenure  MonthlyCharges  SeniorCitizen\n",
              "count  7043.000000     7043.000000    7043.000000\n",
              "mean     32.371149       64.761692       0.162147\n",
              "std      24.559481       30.090047       0.368612\n",
              "min       0.000000       18.250000       0.000000\n",
              "25%       9.000000       35.500000       0.000000\n",
              "50%      29.000000       70.350000       0.000000\n",
              "75%      55.000000       89.850000       0.000000\n",
              "max      72.000000      118.750000       1.000000"
            ]
          },
          "metadata": {},
          "execution_count": 6
        }
      ]
    },
    {
      "cell_type": "code",
      "metadata": {
        "colab": {
          "base_uri": "https://localhost:8080/"
        },
        "id": "Q1PAK5yeu7m0",
        "outputId": "f4d62a53-6ecd-4940-e57e-91befae8e750"
      },
      "source": [
        "\n",
        "telecom.info()"
      ],
      "execution_count": 7,
      "outputs": [
        {
          "output_type": "stream",
          "name": "stdout",
          "text": [
            "<class 'pandas.core.frame.DataFrame'>\n",
            "Int64Index: 7043 entries, 0 to 7042\n",
            "Data columns (total 21 columns):\n",
            " #   Column            Non-Null Count  Dtype  \n",
            "---  ------            --------------  -----  \n",
            " 0   customerID        7043 non-null   object \n",
            " 1   tenure            7043 non-null   int64  \n",
            " 2   PhoneService      7043 non-null   object \n",
            " 3   Contract          7043 non-null   object \n",
            " 4   PaperlessBilling  7043 non-null   object \n",
            " 5   PaymentMethod     7043 non-null   object \n",
            " 6   MonthlyCharges    7043 non-null   float64\n",
            " 7   TotalCharges      7043 non-null   object \n",
            " 8   Churn             7043 non-null   object \n",
            " 9   gender            7043 non-null   object \n",
            " 10  SeniorCitizen     7043 non-null   int64  \n",
            " 11  Partner           7043 non-null   object \n",
            " 12  Dependents        7043 non-null   object \n",
            " 13  MultipleLines     7043 non-null   object \n",
            " 14  InternetService   7043 non-null   object \n",
            " 15  OnlineSecurity    7043 non-null   object \n",
            " 16  OnlineBackup      7043 non-null   object \n",
            " 17  DeviceProtection  7043 non-null   object \n",
            " 18  TechSupport       7043 non-null   object \n",
            " 19  StreamingTV       7043 non-null   object \n",
            " 20  StreamingMovies   7043 non-null   object \n",
            "dtypes: float64(1), int64(2), object(18)\n",
            "memory usage: 1.2+ MB\n"
          ]
        }
      ]
    },
    {
      "cell_type": "code",
      "metadata": {
        "id": "9UHWF5Wku7m1"
      },
      "source": [
        "\n",
        "listp= ['PhoneService', 'PaperlessBilling', 'Churn', 'Partner', 'Dependents']\n",
        "def binary_map(x):\n",
        "    return x.map({'Yes': 1, \"No\": 0})\n",
        "\n",
        "telecom[listp] = telecom[listp].apply(binary_map)    "
      ],
      "execution_count": 8,
      "outputs": []
    },
    {
      "cell_type": "code",
      "metadata": {
        "id": "5IoJJsW4u7m2"
      },
      "source": [
        "\n",
        "dummy1 = pd.get_dummies(telecom[['Contract', 'PaymentMethod', 'gender', 'InternetService']], drop_first=True)\n",
        "telecom = pd.concat([telecom, dummy1], axis=1)\n",
        "\n",
        "ml = pd.get_dummies(telecom['MultipleLines'],prefix='MultipleLines')\n",
        "\n",
        "ml1 =ml.drop(['MultipleLines_No phone service'],1)\n",
        "\n",
        "telecom =(pd.concat([telecom,ml1],axis=1))\n",
        "\n",
        "\n",
        "\n",
        "os =  pd.get_dummies(telecom['OnlineSecurity'],prefix='OnlineSecurity')\n",
        "\n",
        "os1=  os.drop(['OnlineSecurity_No internet service'],1)\n",
        "\n",
        "telecom = (pd.concat([telecom,os1],axis=1))\n",
        "\n",
        "\n",
        "ob = pd.get_dummies(telecom['OnlineBackup'],prefix='OnlineBackup')\n",
        "\n",
        "ob1 =  ob.drop(['OnlineBackup_No internet service'],1)\n",
        "\n",
        "telecom = (pd.concat([telecom,ob1],axis=1))\n",
        "\n",
        "\n",
        "dp = pd.get_dummies(telecom['DeviceProtection'],prefix='DeviceProtection')\n",
        "\n",
        "dp1 =  dp.drop(['DeviceProtection_No internet service'],1)\n",
        "\n",
        "telecom =(pd.concat([telecom,dp1],axis=1))\n",
        "\n",
        "\n",
        "ts =pd.get_dummies(telecom['TechSupport'],prefix='TechSupport')\n",
        "\n",
        "ts1 = ts.drop(['TechSupport_No internet service'],1)\n",
        "\n",
        "telecom = (pd.concat([telecom,ts1],axis=1))\n",
        "\n",
        "st =pd.get_dummies(telecom['StreamingTV'],prefix='StreamingTV')\n",
        "\n",
        "st1 = st.drop(['StreamingTV_No internet service'],1)\n",
        "\n",
        "telecom = (pd.concat([telecom,st1],axis=1))\n",
        "\n",
        "sm =pd.get_dummies(telecom['StreamingMovies'],prefix='StreamingMovies')\n",
        "\n",
        "sm1 = sm.drop(['StreamingMovies_No internet service'],1)\n",
        "\n",
        "telecom =(pd.concat([telecom,sm1],axis=1))\n"
      ],
      "execution_count": 9,
      "outputs": []
    },
    {
      "cell_type": "code",
      "metadata": {
        "colab": {
          "base_uri": "https://localhost:8080/",
          "height": 330
        },
        "id": "rZqUb76EdYDt",
        "outputId": "4457fac7-3674-49f9-de0b-9a5b729508f9"
      },
      "source": [
        "telecom.head()"
      ],
      "execution_count": 10,
      "outputs": [
        {
          "output_type": "execute_result",
          "data": {
            "text/html": [
              "<div>\n",
              "<style scoped>\n",
              "    .dataframe tbody tr th:only-of-type {\n",
              "        vertical-align: middle;\n",
              "    }\n",
              "\n",
              "    .dataframe tbody tr th {\n",
              "        vertical-align: top;\n",
              "    }\n",
              "\n",
              "    .dataframe thead th {\n",
              "        text-align: right;\n",
              "    }\n",
              "</style>\n",
              "<table border=\"1\" class=\"dataframe\">\n",
              "  <thead>\n",
              "    <tr style=\"text-align: right;\">\n",
              "      <th></th>\n",
              "      <th>customerID</th>\n",
              "      <th>tenure</th>\n",
              "      <th>PhoneService</th>\n",
              "      <th>Contract</th>\n",
              "      <th>PaperlessBilling</th>\n",
              "      <th>PaymentMethod</th>\n",
              "      <th>MonthlyCharges</th>\n",
              "      <th>TotalCharges</th>\n",
              "      <th>Churn</th>\n",
              "      <th>gender</th>\n",
              "      <th>SeniorCitizen</th>\n",
              "      <th>Partner</th>\n",
              "      <th>Dependents</th>\n",
              "      <th>MultipleLines</th>\n",
              "      <th>InternetService</th>\n",
              "      <th>OnlineSecurity</th>\n",
              "      <th>OnlineBackup</th>\n",
              "      <th>DeviceProtection</th>\n",
              "      <th>TechSupport</th>\n",
              "      <th>StreamingTV</th>\n",
              "      <th>StreamingMovies</th>\n",
              "      <th>Contract_One year</th>\n",
              "      <th>Contract_Two year</th>\n",
              "      <th>PaymentMethod_Credit card (automatic)</th>\n",
              "      <th>PaymentMethod_Electronic check</th>\n",
              "      <th>PaymentMethod_Mailed check</th>\n",
              "      <th>gender_Male</th>\n",
              "      <th>InternetService_Fiber optic</th>\n",
              "      <th>InternetService_No</th>\n",
              "      <th>MultipleLines_No</th>\n",
              "      <th>MultipleLines_Yes</th>\n",
              "      <th>OnlineSecurity_No</th>\n",
              "      <th>OnlineSecurity_Yes</th>\n",
              "      <th>OnlineBackup_No</th>\n",
              "      <th>OnlineBackup_Yes</th>\n",
              "      <th>DeviceProtection_No</th>\n",
              "      <th>DeviceProtection_Yes</th>\n",
              "      <th>TechSupport_No</th>\n",
              "      <th>TechSupport_Yes</th>\n",
              "      <th>StreamingTV_No</th>\n",
              "      <th>StreamingTV_Yes</th>\n",
              "      <th>StreamingMovies_No</th>\n",
              "      <th>StreamingMovies_Yes</th>\n",
              "    </tr>\n",
              "  </thead>\n",
              "  <tbody>\n",
              "    <tr>\n",
              "      <th>0</th>\n",
              "      <td>7590-VHVEG</td>\n",
              "      <td>1</td>\n",
              "      <td>0</td>\n",
              "      <td>Month-to-month</td>\n",
              "      <td>1</td>\n",
              "      <td>Electronic check</td>\n",
              "      <td>29.85</td>\n",
              "      <td>29.85</td>\n",
              "      <td>0</td>\n",
              "      <td>Female</td>\n",
              "      <td>0</td>\n",
              "      <td>1</td>\n",
              "      <td>0</td>\n",
              "      <td>No phone service</td>\n",
              "      <td>DSL</td>\n",
              "      <td>No</td>\n",
              "      <td>Yes</td>\n",
              "      <td>No</td>\n",
              "      <td>No</td>\n",
              "      <td>No</td>\n",
              "      <td>No</td>\n",
              "      <td>0</td>\n",
              "      <td>0</td>\n",
              "      <td>0</td>\n",
              "      <td>1</td>\n",
              "      <td>0</td>\n",
              "      <td>0</td>\n",
              "      <td>0</td>\n",
              "      <td>0</td>\n",
              "      <td>0</td>\n",
              "      <td>0</td>\n",
              "      <td>1</td>\n",
              "      <td>0</td>\n",
              "      <td>0</td>\n",
              "      <td>1</td>\n",
              "      <td>1</td>\n",
              "      <td>0</td>\n",
              "      <td>1</td>\n",
              "      <td>0</td>\n",
              "      <td>1</td>\n",
              "      <td>0</td>\n",
              "      <td>1</td>\n",
              "      <td>0</td>\n",
              "    </tr>\n",
              "    <tr>\n",
              "      <th>1</th>\n",
              "      <td>5575-GNVDE</td>\n",
              "      <td>34</td>\n",
              "      <td>1</td>\n",
              "      <td>One year</td>\n",
              "      <td>0</td>\n",
              "      <td>Mailed check</td>\n",
              "      <td>56.95</td>\n",
              "      <td>1889.5</td>\n",
              "      <td>0</td>\n",
              "      <td>Male</td>\n",
              "      <td>0</td>\n",
              "      <td>0</td>\n",
              "      <td>0</td>\n",
              "      <td>No</td>\n",
              "      <td>DSL</td>\n",
              "      <td>Yes</td>\n",
              "      <td>No</td>\n",
              "      <td>Yes</td>\n",
              "      <td>No</td>\n",
              "      <td>No</td>\n",
              "      <td>No</td>\n",
              "      <td>1</td>\n",
              "      <td>0</td>\n",
              "      <td>0</td>\n",
              "      <td>0</td>\n",
              "      <td>1</td>\n",
              "      <td>1</td>\n",
              "      <td>0</td>\n",
              "      <td>0</td>\n",
              "      <td>1</td>\n",
              "      <td>0</td>\n",
              "      <td>0</td>\n",
              "      <td>1</td>\n",
              "      <td>1</td>\n",
              "      <td>0</td>\n",
              "      <td>0</td>\n",
              "      <td>1</td>\n",
              "      <td>1</td>\n",
              "      <td>0</td>\n",
              "      <td>1</td>\n",
              "      <td>0</td>\n",
              "      <td>1</td>\n",
              "      <td>0</td>\n",
              "    </tr>\n",
              "    <tr>\n",
              "      <th>2</th>\n",
              "      <td>3668-QPYBK</td>\n",
              "      <td>2</td>\n",
              "      <td>1</td>\n",
              "      <td>Month-to-month</td>\n",
              "      <td>1</td>\n",
              "      <td>Mailed check</td>\n",
              "      <td>53.85</td>\n",
              "      <td>108.15</td>\n",
              "      <td>1</td>\n",
              "      <td>Male</td>\n",
              "      <td>0</td>\n",
              "      <td>0</td>\n",
              "      <td>0</td>\n",
              "      <td>No</td>\n",
              "      <td>DSL</td>\n",
              "      <td>Yes</td>\n",
              "      <td>Yes</td>\n",
              "      <td>No</td>\n",
              "      <td>No</td>\n",
              "      <td>No</td>\n",
              "      <td>No</td>\n",
              "      <td>0</td>\n",
              "      <td>0</td>\n",
              "      <td>0</td>\n",
              "      <td>0</td>\n",
              "      <td>1</td>\n",
              "      <td>1</td>\n",
              "      <td>0</td>\n",
              "      <td>0</td>\n",
              "      <td>1</td>\n",
              "      <td>0</td>\n",
              "      <td>0</td>\n",
              "      <td>1</td>\n",
              "      <td>0</td>\n",
              "      <td>1</td>\n",
              "      <td>1</td>\n",
              "      <td>0</td>\n",
              "      <td>1</td>\n",
              "      <td>0</td>\n",
              "      <td>1</td>\n",
              "      <td>0</td>\n",
              "      <td>1</td>\n",
              "      <td>0</td>\n",
              "    </tr>\n",
              "    <tr>\n",
              "      <th>3</th>\n",
              "      <td>7795-CFOCW</td>\n",
              "      <td>45</td>\n",
              "      <td>0</td>\n",
              "      <td>One year</td>\n",
              "      <td>0</td>\n",
              "      <td>Bank transfer (automatic)</td>\n",
              "      <td>42.30</td>\n",
              "      <td>1840.75</td>\n",
              "      <td>0</td>\n",
              "      <td>Male</td>\n",
              "      <td>0</td>\n",
              "      <td>0</td>\n",
              "      <td>0</td>\n",
              "      <td>No phone service</td>\n",
              "      <td>DSL</td>\n",
              "      <td>Yes</td>\n",
              "      <td>No</td>\n",
              "      <td>Yes</td>\n",
              "      <td>Yes</td>\n",
              "      <td>No</td>\n",
              "      <td>No</td>\n",
              "      <td>1</td>\n",
              "      <td>0</td>\n",
              "      <td>0</td>\n",
              "      <td>0</td>\n",
              "      <td>0</td>\n",
              "      <td>1</td>\n",
              "      <td>0</td>\n",
              "      <td>0</td>\n",
              "      <td>0</td>\n",
              "      <td>0</td>\n",
              "      <td>0</td>\n",
              "      <td>1</td>\n",
              "      <td>1</td>\n",
              "      <td>0</td>\n",
              "      <td>0</td>\n",
              "      <td>1</td>\n",
              "      <td>0</td>\n",
              "      <td>1</td>\n",
              "      <td>1</td>\n",
              "      <td>0</td>\n",
              "      <td>1</td>\n",
              "      <td>0</td>\n",
              "    </tr>\n",
              "    <tr>\n",
              "      <th>4</th>\n",
              "      <td>9237-HQITU</td>\n",
              "      <td>2</td>\n",
              "      <td>1</td>\n",
              "      <td>Month-to-month</td>\n",
              "      <td>1</td>\n",
              "      <td>Electronic check</td>\n",
              "      <td>70.70</td>\n",
              "      <td>151.65</td>\n",
              "      <td>1</td>\n",
              "      <td>Female</td>\n",
              "      <td>0</td>\n",
              "      <td>0</td>\n",
              "      <td>0</td>\n",
              "      <td>No</td>\n",
              "      <td>Fiber optic</td>\n",
              "      <td>No</td>\n",
              "      <td>No</td>\n",
              "      <td>No</td>\n",
              "      <td>No</td>\n",
              "      <td>No</td>\n",
              "      <td>No</td>\n",
              "      <td>0</td>\n",
              "      <td>0</td>\n",
              "      <td>0</td>\n",
              "      <td>1</td>\n",
              "      <td>0</td>\n",
              "      <td>0</td>\n",
              "      <td>1</td>\n",
              "      <td>0</td>\n",
              "      <td>1</td>\n",
              "      <td>0</td>\n",
              "      <td>1</td>\n",
              "      <td>0</td>\n",
              "      <td>1</td>\n",
              "      <td>0</td>\n",
              "      <td>1</td>\n",
              "      <td>0</td>\n",
              "      <td>1</td>\n",
              "      <td>0</td>\n",
              "      <td>1</td>\n",
              "      <td>0</td>\n",
              "      <td>1</td>\n",
              "      <td>0</td>\n",
              "    </tr>\n",
              "  </tbody>\n",
              "</table>\n",
              "</div>"
            ],
            "text/plain": [
              "   customerID  tenure  ...  StreamingMovies_No StreamingMovies_Yes\n",
              "0  7590-VHVEG       1  ...                   1                   0\n",
              "1  5575-GNVDE      34  ...                   1                   0\n",
              "2  3668-QPYBK       2  ...                   1                   0\n",
              "3  7795-CFOCW      45  ...                   1                   0\n",
              "4  9237-HQITU       2  ...                   1                   0\n",
              "\n",
              "[5 rows x 43 columns]"
            ]
          },
          "metadata": {},
          "execution_count": 10
        }
      ]
    },
    {
      "cell_type": "code",
      "metadata": {
        "id": "Rrtulg6ru7m3"
      },
      "source": [
        "\n",
        "telecom = telecom.drop(['Contract','PaymentMethod','gender','MultipleLines','InternetService', 'OnlineSecurity', 'OnlineBackup', 'DeviceProtection',\n",
        "       'TechSupport', 'StreamingTV', 'StreamingMovies'], 1)\n"
      ],
      "execution_count": 11,
      "outputs": []
    },
    {
      "cell_type": "code",
      "metadata": {
        "colab": {
          "base_uri": "https://localhost:8080/"
        },
        "id": "R_SKnRF2Ya1F",
        "outputId": "f0d933ac-79f8-49a5-abb4-e5e4366b58e9"
      },
      "source": [
        "telecom.info()"
      ],
      "execution_count": 12,
      "outputs": [
        {
          "output_type": "stream",
          "name": "stdout",
          "text": [
            "<class 'pandas.core.frame.DataFrame'>\n",
            "Int64Index: 7043 entries, 0 to 7042\n",
            "Data columns (total 32 columns):\n",
            " #   Column                                 Non-Null Count  Dtype  \n",
            "---  ------                                 --------------  -----  \n",
            " 0   customerID                             7043 non-null   object \n",
            " 1   tenure                                 7043 non-null   int64  \n",
            " 2   PhoneService                           7043 non-null   int64  \n",
            " 3   PaperlessBilling                       7043 non-null   int64  \n",
            " 4   MonthlyCharges                         7043 non-null   float64\n",
            " 5   TotalCharges                           7043 non-null   object \n",
            " 6   Churn                                  7043 non-null   int64  \n",
            " 7   SeniorCitizen                          7043 non-null   int64  \n",
            " 8   Partner                                7043 non-null   int64  \n",
            " 9   Dependents                             7043 non-null   int64  \n",
            " 10  Contract_One year                      7043 non-null   uint8  \n",
            " 11  Contract_Two year                      7043 non-null   uint8  \n",
            " 12  PaymentMethod_Credit card (automatic)  7043 non-null   uint8  \n",
            " 13  PaymentMethod_Electronic check         7043 non-null   uint8  \n",
            " 14  PaymentMethod_Mailed check             7043 non-null   uint8  \n",
            " 15  gender_Male                            7043 non-null   uint8  \n",
            " 16  InternetService_Fiber optic            7043 non-null   uint8  \n",
            " 17  InternetService_No                     7043 non-null   uint8  \n",
            " 18  MultipleLines_No                       7043 non-null   uint8  \n",
            " 19  MultipleLines_Yes                      7043 non-null   uint8  \n",
            " 20  OnlineSecurity_No                      7043 non-null   uint8  \n",
            " 21  OnlineSecurity_Yes                     7043 non-null   uint8  \n",
            " 22  OnlineBackup_No                        7043 non-null   uint8  \n",
            " 23  OnlineBackup_Yes                       7043 non-null   uint8  \n",
            " 24  DeviceProtection_No                    7043 non-null   uint8  \n",
            " 25  DeviceProtection_Yes                   7043 non-null   uint8  \n",
            " 26  TechSupport_No                         7043 non-null   uint8  \n",
            " 27  TechSupport_Yes                        7043 non-null   uint8  \n",
            " 28  StreamingTV_No                         7043 non-null   uint8  \n",
            " 29  StreamingTV_Yes                        7043 non-null   uint8  \n",
            " 30  StreamingMovies_No                     7043 non-null   uint8  \n",
            " 31  StreamingMovies_Yes                    7043 non-null   uint8  \n",
            "dtypes: float64(1), int64(7), object(2), uint8(22)\n",
            "memory usage: 756.6+ KB\n"
          ]
        }
      ]
    },
    {
      "cell_type": "code",
      "metadata": {
        "colab": {
          "base_uri": "https://localhost:8080/",
          "height": 330
        },
        "id": "2TELVroA9Bef",
        "outputId": "9b46be4c-aece-4cbc-d523-2aa2fc97166a"
      },
      "source": [
        "telecom.head()"
      ],
      "execution_count": 13,
      "outputs": [
        {
          "output_type": "execute_result",
          "data": {
            "text/html": [
              "<div>\n",
              "<style scoped>\n",
              "    .dataframe tbody tr th:only-of-type {\n",
              "        vertical-align: middle;\n",
              "    }\n",
              "\n",
              "    .dataframe tbody tr th {\n",
              "        vertical-align: top;\n",
              "    }\n",
              "\n",
              "    .dataframe thead th {\n",
              "        text-align: right;\n",
              "    }\n",
              "</style>\n",
              "<table border=\"1\" class=\"dataframe\">\n",
              "  <thead>\n",
              "    <tr style=\"text-align: right;\">\n",
              "      <th></th>\n",
              "      <th>customerID</th>\n",
              "      <th>tenure</th>\n",
              "      <th>PhoneService</th>\n",
              "      <th>PaperlessBilling</th>\n",
              "      <th>MonthlyCharges</th>\n",
              "      <th>TotalCharges</th>\n",
              "      <th>Churn</th>\n",
              "      <th>SeniorCitizen</th>\n",
              "      <th>Partner</th>\n",
              "      <th>Dependents</th>\n",
              "      <th>Contract_One year</th>\n",
              "      <th>Contract_Two year</th>\n",
              "      <th>PaymentMethod_Credit card (automatic)</th>\n",
              "      <th>PaymentMethod_Electronic check</th>\n",
              "      <th>PaymentMethod_Mailed check</th>\n",
              "      <th>gender_Male</th>\n",
              "      <th>InternetService_Fiber optic</th>\n",
              "      <th>InternetService_No</th>\n",
              "      <th>MultipleLines_No</th>\n",
              "      <th>MultipleLines_Yes</th>\n",
              "      <th>OnlineSecurity_No</th>\n",
              "      <th>OnlineSecurity_Yes</th>\n",
              "      <th>OnlineBackup_No</th>\n",
              "      <th>OnlineBackup_Yes</th>\n",
              "      <th>DeviceProtection_No</th>\n",
              "      <th>DeviceProtection_Yes</th>\n",
              "      <th>TechSupport_No</th>\n",
              "      <th>TechSupport_Yes</th>\n",
              "      <th>StreamingTV_No</th>\n",
              "      <th>StreamingTV_Yes</th>\n",
              "      <th>StreamingMovies_No</th>\n",
              "      <th>StreamingMovies_Yes</th>\n",
              "    </tr>\n",
              "  </thead>\n",
              "  <tbody>\n",
              "    <tr>\n",
              "      <th>0</th>\n",
              "      <td>7590-VHVEG</td>\n",
              "      <td>1</td>\n",
              "      <td>0</td>\n",
              "      <td>1</td>\n",
              "      <td>29.85</td>\n",
              "      <td>29.85</td>\n",
              "      <td>0</td>\n",
              "      <td>0</td>\n",
              "      <td>1</td>\n",
              "      <td>0</td>\n",
              "      <td>0</td>\n",
              "      <td>0</td>\n",
              "      <td>0</td>\n",
              "      <td>1</td>\n",
              "      <td>0</td>\n",
              "      <td>0</td>\n",
              "      <td>0</td>\n",
              "      <td>0</td>\n",
              "      <td>0</td>\n",
              "      <td>0</td>\n",
              "      <td>1</td>\n",
              "      <td>0</td>\n",
              "      <td>0</td>\n",
              "      <td>1</td>\n",
              "      <td>1</td>\n",
              "      <td>0</td>\n",
              "      <td>1</td>\n",
              "      <td>0</td>\n",
              "      <td>1</td>\n",
              "      <td>0</td>\n",
              "      <td>1</td>\n",
              "      <td>0</td>\n",
              "    </tr>\n",
              "    <tr>\n",
              "      <th>1</th>\n",
              "      <td>5575-GNVDE</td>\n",
              "      <td>34</td>\n",
              "      <td>1</td>\n",
              "      <td>0</td>\n",
              "      <td>56.95</td>\n",
              "      <td>1889.5</td>\n",
              "      <td>0</td>\n",
              "      <td>0</td>\n",
              "      <td>0</td>\n",
              "      <td>0</td>\n",
              "      <td>1</td>\n",
              "      <td>0</td>\n",
              "      <td>0</td>\n",
              "      <td>0</td>\n",
              "      <td>1</td>\n",
              "      <td>1</td>\n",
              "      <td>0</td>\n",
              "      <td>0</td>\n",
              "      <td>1</td>\n",
              "      <td>0</td>\n",
              "      <td>0</td>\n",
              "      <td>1</td>\n",
              "      <td>1</td>\n",
              "      <td>0</td>\n",
              "      <td>0</td>\n",
              "      <td>1</td>\n",
              "      <td>1</td>\n",
              "      <td>0</td>\n",
              "      <td>1</td>\n",
              "      <td>0</td>\n",
              "      <td>1</td>\n",
              "      <td>0</td>\n",
              "    </tr>\n",
              "    <tr>\n",
              "      <th>2</th>\n",
              "      <td>3668-QPYBK</td>\n",
              "      <td>2</td>\n",
              "      <td>1</td>\n",
              "      <td>1</td>\n",
              "      <td>53.85</td>\n",
              "      <td>108.15</td>\n",
              "      <td>1</td>\n",
              "      <td>0</td>\n",
              "      <td>0</td>\n",
              "      <td>0</td>\n",
              "      <td>0</td>\n",
              "      <td>0</td>\n",
              "      <td>0</td>\n",
              "      <td>0</td>\n",
              "      <td>1</td>\n",
              "      <td>1</td>\n",
              "      <td>0</td>\n",
              "      <td>0</td>\n",
              "      <td>1</td>\n",
              "      <td>0</td>\n",
              "      <td>0</td>\n",
              "      <td>1</td>\n",
              "      <td>0</td>\n",
              "      <td>1</td>\n",
              "      <td>1</td>\n",
              "      <td>0</td>\n",
              "      <td>1</td>\n",
              "      <td>0</td>\n",
              "      <td>1</td>\n",
              "      <td>0</td>\n",
              "      <td>1</td>\n",
              "      <td>0</td>\n",
              "    </tr>\n",
              "    <tr>\n",
              "      <th>3</th>\n",
              "      <td>7795-CFOCW</td>\n",
              "      <td>45</td>\n",
              "      <td>0</td>\n",
              "      <td>0</td>\n",
              "      <td>42.30</td>\n",
              "      <td>1840.75</td>\n",
              "      <td>0</td>\n",
              "      <td>0</td>\n",
              "      <td>0</td>\n",
              "      <td>0</td>\n",
              "      <td>1</td>\n",
              "      <td>0</td>\n",
              "      <td>0</td>\n",
              "      <td>0</td>\n",
              "      <td>0</td>\n",
              "      <td>1</td>\n",
              "      <td>0</td>\n",
              "      <td>0</td>\n",
              "      <td>0</td>\n",
              "      <td>0</td>\n",
              "      <td>0</td>\n",
              "      <td>1</td>\n",
              "      <td>1</td>\n",
              "      <td>0</td>\n",
              "      <td>0</td>\n",
              "      <td>1</td>\n",
              "      <td>0</td>\n",
              "      <td>1</td>\n",
              "      <td>1</td>\n",
              "      <td>0</td>\n",
              "      <td>1</td>\n",
              "      <td>0</td>\n",
              "    </tr>\n",
              "    <tr>\n",
              "      <th>4</th>\n",
              "      <td>9237-HQITU</td>\n",
              "      <td>2</td>\n",
              "      <td>1</td>\n",
              "      <td>1</td>\n",
              "      <td>70.70</td>\n",
              "      <td>151.65</td>\n",
              "      <td>1</td>\n",
              "      <td>0</td>\n",
              "      <td>0</td>\n",
              "      <td>0</td>\n",
              "      <td>0</td>\n",
              "      <td>0</td>\n",
              "      <td>0</td>\n",
              "      <td>1</td>\n",
              "      <td>0</td>\n",
              "      <td>0</td>\n",
              "      <td>1</td>\n",
              "      <td>0</td>\n",
              "      <td>1</td>\n",
              "      <td>0</td>\n",
              "      <td>1</td>\n",
              "      <td>0</td>\n",
              "      <td>1</td>\n",
              "      <td>0</td>\n",
              "      <td>1</td>\n",
              "      <td>0</td>\n",
              "      <td>1</td>\n",
              "      <td>0</td>\n",
              "      <td>1</td>\n",
              "      <td>0</td>\n",
              "      <td>1</td>\n",
              "      <td>0</td>\n",
              "    </tr>\n",
              "  </tbody>\n",
              "</table>\n",
              "</div>"
            ],
            "text/plain": [
              "   customerID  tenure  ...  StreamingMovies_No  StreamingMovies_Yes\n",
              "0  7590-VHVEG       1  ...                   1                    0\n",
              "1  5575-GNVDE      34  ...                   1                    0\n",
              "2  3668-QPYBK       2  ...                   1                    0\n",
              "3  7795-CFOCW      45  ...                   1                    0\n",
              "4  9237-HQITU       2  ...                   1                    0\n",
              "\n",
              "[5 rows x 32 columns]"
            ]
          },
          "metadata": {},
          "execution_count": 13
        }
      ]
    },
    {
      "cell_type": "code",
      "metadata": {
        "id": "vxr5YoJpu7m3"
      },
      "source": [
        "\n",
        "\n",
        "telecom[['TotalCharges']]=telecom[['TotalCharges']].apply(pd.to_numeric, errors='coerce')\n"
      ],
      "execution_count": 14,
      "outputs": []
    },
    {
      "cell_type": "code",
      "metadata": {
        "id": "KFVKt7oVu7m3",
        "colab": {
          "base_uri": "https://localhost:8080/"
        },
        "outputId": "8b6233f7-2d99-4c69-a4fe-9b31394bf5e8"
      },
      "source": [
        "\n",
        "telecom.info()"
      ],
      "execution_count": 15,
      "outputs": [
        {
          "output_type": "stream",
          "name": "stdout",
          "text": [
            "<class 'pandas.core.frame.DataFrame'>\n",
            "Int64Index: 7043 entries, 0 to 7042\n",
            "Data columns (total 32 columns):\n",
            " #   Column                                 Non-Null Count  Dtype  \n",
            "---  ------                                 --------------  -----  \n",
            " 0   customerID                             7043 non-null   object \n",
            " 1   tenure                                 7043 non-null   int64  \n",
            " 2   PhoneService                           7043 non-null   int64  \n",
            " 3   PaperlessBilling                       7043 non-null   int64  \n",
            " 4   MonthlyCharges                         7043 non-null   float64\n",
            " 5   TotalCharges                           7032 non-null   float64\n",
            " 6   Churn                                  7043 non-null   int64  \n",
            " 7   SeniorCitizen                          7043 non-null   int64  \n",
            " 8   Partner                                7043 non-null   int64  \n",
            " 9   Dependents                             7043 non-null   int64  \n",
            " 10  Contract_One year                      7043 non-null   uint8  \n",
            " 11  Contract_Two year                      7043 non-null   uint8  \n",
            " 12  PaymentMethod_Credit card (automatic)  7043 non-null   uint8  \n",
            " 13  PaymentMethod_Electronic check         7043 non-null   uint8  \n",
            " 14  PaymentMethod_Mailed check             7043 non-null   uint8  \n",
            " 15  gender_Male                            7043 non-null   uint8  \n",
            " 16  InternetService_Fiber optic            7043 non-null   uint8  \n",
            " 17  InternetService_No                     7043 non-null   uint8  \n",
            " 18  MultipleLines_No                       7043 non-null   uint8  \n",
            " 19  MultipleLines_Yes                      7043 non-null   uint8  \n",
            " 20  OnlineSecurity_No                      7043 non-null   uint8  \n",
            " 21  OnlineSecurity_Yes                     7043 non-null   uint8  \n",
            " 22  OnlineBackup_No                        7043 non-null   uint8  \n",
            " 23  OnlineBackup_Yes                       7043 non-null   uint8  \n",
            " 24  DeviceProtection_No                    7043 non-null   uint8  \n",
            " 25  DeviceProtection_Yes                   7043 non-null   uint8  \n",
            " 26  TechSupport_No                         7043 non-null   uint8  \n",
            " 27  TechSupport_Yes                        7043 non-null   uint8  \n",
            " 28  StreamingTV_No                         7043 non-null   uint8  \n",
            " 29  StreamingTV_Yes                        7043 non-null   uint8  \n",
            " 30  StreamingMovies_No                     7043 non-null   uint8  \n",
            " 31  StreamingMovies_Yes                    7043 non-null   uint8  \n",
            "dtypes: float64(2), int64(7), object(1), uint8(22)\n",
            "memory usage: 756.6+ KB\n"
          ]
        }
      ]
    },
    {
      "cell_type": "markdown",
      "metadata": {
        "id": "f_kAUgMJu7m4"
      },
      "source": [
        "Now we can see we have all variables as integer."
      ]
    },
    {
      "cell_type": "code",
      "metadata": {
        "id": "s2nCTjUVu7m4"
      },
      "source": [
        "\n",
        "num_telecom = telecom[['tenure','MonthlyCharges','SeniorCitizen','TotalCharges']]"
      ],
      "execution_count": 16,
      "outputs": []
    },
    {
      "cell_type": "code",
      "metadata": {
        "id": "dD-gJy23u7m5",
        "colab": {
          "base_uri": "https://localhost:8080/",
          "height": 238
        },
        "outputId": "dc98387f-e564-43a6-838c-a1eeeb6ecb8e"
      },
      "source": [
        "\n",
        "num_telecom.quantile([.25,.5,.75,.90,.95,.99])"
      ],
      "execution_count": 17,
      "outputs": [
        {
          "output_type": "execute_result",
          "data": {
            "text/html": [
              "<div>\n",
              "<style scoped>\n",
              "    .dataframe tbody tr th:only-of-type {\n",
              "        vertical-align: middle;\n",
              "    }\n",
              "\n",
              "    .dataframe tbody tr th {\n",
              "        vertical-align: top;\n",
              "    }\n",
              "\n",
              "    .dataframe thead th {\n",
              "        text-align: right;\n",
              "    }\n",
              "</style>\n",
              "<table border=\"1\" class=\"dataframe\">\n",
              "  <thead>\n",
              "    <tr style=\"text-align: right;\">\n",
              "      <th></th>\n",
              "      <th>tenure</th>\n",
              "      <th>MonthlyCharges</th>\n",
              "      <th>SeniorCitizen</th>\n",
              "      <th>TotalCharges</th>\n",
              "    </tr>\n",
              "  </thead>\n",
              "  <tbody>\n",
              "    <tr>\n",
              "      <th>0.25</th>\n",
              "      <td>9.0</td>\n",
              "      <td>35.500</td>\n",
              "      <td>0.0</td>\n",
              "      <td>401.4500</td>\n",
              "    </tr>\n",
              "    <tr>\n",
              "      <th>0.50</th>\n",
              "      <td>29.0</td>\n",
              "      <td>70.350</td>\n",
              "      <td>0.0</td>\n",
              "      <td>1397.4750</td>\n",
              "    </tr>\n",
              "    <tr>\n",
              "      <th>0.75</th>\n",
              "      <td>55.0</td>\n",
              "      <td>89.850</td>\n",
              "      <td>0.0</td>\n",
              "      <td>3794.7375</td>\n",
              "    </tr>\n",
              "    <tr>\n",
              "      <th>0.90</th>\n",
              "      <td>69.0</td>\n",
              "      <td>102.600</td>\n",
              "      <td>1.0</td>\n",
              "      <td>5976.6400</td>\n",
              "    </tr>\n",
              "    <tr>\n",
              "      <th>0.95</th>\n",
              "      <td>72.0</td>\n",
              "      <td>107.400</td>\n",
              "      <td>1.0</td>\n",
              "      <td>6923.5900</td>\n",
              "    </tr>\n",
              "    <tr>\n",
              "      <th>0.99</th>\n",
              "      <td>72.0</td>\n",
              "      <td>114.729</td>\n",
              "      <td>1.0</td>\n",
              "      <td>8039.8830</td>\n",
              "    </tr>\n",
              "  </tbody>\n",
              "</table>\n",
              "</div>"
            ],
            "text/plain": [
              "      tenure  MonthlyCharges  SeniorCitizen  TotalCharges\n",
              "0.25     9.0          35.500            0.0      401.4500\n",
              "0.50    29.0          70.350            0.0     1397.4750\n",
              "0.75    55.0          89.850            0.0     3794.7375\n",
              "0.90    69.0         102.600            1.0     5976.6400\n",
              "0.95    72.0         107.400            1.0     6923.5900\n",
              "0.99    72.0         114.729            1.0     8039.8830"
            ]
          },
          "metadata": {},
          "execution_count": 17
        }
      ]
    },
    {
      "cell_type": "code",
      "metadata": {
        "id": "HOREKKI5u7m5",
        "colab": {
          "base_uri": "https://localhost:8080/"
        },
        "outputId": "6fac5b3f-d205-4d52-9363-5160cc79456d"
      },
      "source": [
        "\n",
        "telecom.isnull().sum()"
      ],
      "execution_count": 18,
      "outputs": [
        {
          "output_type": "execute_result",
          "data": {
            "text/plain": [
              "customerID                                0\n",
              "tenure                                    0\n",
              "PhoneService                              0\n",
              "PaperlessBilling                          0\n",
              "MonthlyCharges                            0\n",
              "TotalCharges                             11\n",
              "Churn                                     0\n",
              "SeniorCitizen                             0\n",
              "Partner                                   0\n",
              "Dependents                                0\n",
              "Contract_One year                         0\n",
              "Contract_Two year                         0\n",
              "PaymentMethod_Credit card (automatic)     0\n",
              "PaymentMethod_Electronic check            0\n",
              "PaymentMethod_Mailed check                0\n",
              "gender_Male                               0\n",
              "InternetService_Fiber optic               0\n",
              "InternetService_No                        0\n",
              "MultipleLines_No                          0\n",
              "MultipleLines_Yes                         0\n",
              "OnlineSecurity_No                         0\n",
              "OnlineSecurity_Yes                        0\n",
              "OnlineBackup_No                           0\n",
              "OnlineBackup_Yes                          0\n",
              "DeviceProtection_No                       0\n",
              "DeviceProtection_Yes                      0\n",
              "TechSupport_No                            0\n",
              "TechSupport_Yes                           0\n",
              "StreamingTV_No                            0\n",
              "StreamingTV_Yes                           0\n",
              "StreamingMovies_No                        0\n",
              "StreamingMovies_Yes                       0\n",
              "dtype: int64"
            ]
          },
          "metadata": {},
          "execution_count": 18
        }
      ]
    },
    {
      "cell_type": "code",
      "metadata": {
        "id": "Jh0Z_ajLu7m5",
        "colab": {
          "base_uri": "https://localhost:8080/"
        },
        "outputId": "13efa4d1-496e-4dc4-f209-034d1ea4e1fe"
      },
      "source": [
        "\n",
        "round(100*(telecom.isnull().sum()/len(telecom.index)), 2)"
      ],
      "execution_count": 19,
      "outputs": [
        {
          "output_type": "execute_result",
          "data": {
            "text/plain": [
              "customerID                               0.00\n",
              "tenure                                   0.00\n",
              "PhoneService                             0.00\n",
              "PaperlessBilling                         0.00\n",
              "MonthlyCharges                           0.00\n",
              "TotalCharges                             0.16\n",
              "Churn                                    0.00\n",
              "SeniorCitizen                            0.00\n",
              "Partner                                  0.00\n",
              "Dependents                               0.00\n",
              "Contract_One year                        0.00\n",
              "Contract_Two year                        0.00\n",
              "PaymentMethod_Credit card (automatic)    0.00\n",
              "PaymentMethod_Electronic check           0.00\n",
              "PaymentMethod_Mailed check               0.00\n",
              "gender_Male                              0.00\n",
              "InternetService_Fiber optic              0.00\n",
              "InternetService_No                       0.00\n",
              "MultipleLines_No                         0.00\n",
              "MultipleLines_Yes                        0.00\n",
              "OnlineSecurity_No                        0.00\n",
              "OnlineSecurity_Yes                       0.00\n",
              "OnlineBackup_No                          0.00\n",
              "OnlineBackup_Yes                         0.00\n",
              "DeviceProtection_No                      0.00\n",
              "DeviceProtection_Yes                     0.00\n",
              "TechSupport_No                           0.00\n",
              "TechSupport_Yes                          0.00\n",
              "StreamingTV_No                           0.00\n",
              "StreamingTV_Yes                          0.00\n",
              "StreamingMovies_No                       0.00\n",
              "StreamingMovies_Yes                      0.00\n",
              "dtype: float64"
            ]
          },
          "metadata": {},
          "execution_count": 19
        }
      ]
    },
    {
      "cell_type": "code",
      "metadata": {
        "id": "jXsU2Xkzu7m6"
      },
      "source": [
        "\n",
        "telecom = telecom[~np.isnan(telecom['TotalCharges'])]"
      ],
      "execution_count": 20,
      "outputs": []
    },
    {
      "cell_type": "code",
      "metadata": {
        "id": "w59VaCCWu7m6",
        "colab": {
          "base_uri": "https://localhost:8080/"
        },
        "outputId": "3860b894-f44a-4503-9775-8861781ee6a8"
      },
      "source": [
        "\n",
        "round(100*(telecom.isnull().sum()/len(telecom.index)), 2)"
      ],
      "execution_count": 21,
      "outputs": [
        {
          "output_type": "execute_result",
          "data": {
            "text/plain": [
              "customerID                               0.0\n",
              "tenure                                   0.0\n",
              "PhoneService                             0.0\n",
              "PaperlessBilling                         0.0\n",
              "MonthlyCharges                           0.0\n",
              "TotalCharges                             0.0\n",
              "Churn                                    0.0\n",
              "SeniorCitizen                            0.0\n",
              "Partner                                  0.0\n",
              "Dependents                               0.0\n",
              "Contract_One year                        0.0\n",
              "Contract_Two year                        0.0\n",
              "PaymentMethod_Credit card (automatic)    0.0\n",
              "PaymentMethod_Electronic check           0.0\n",
              "PaymentMethod_Mailed check               0.0\n",
              "gender_Male                              0.0\n",
              "InternetService_Fiber optic              0.0\n",
              "InternetService_No                       0.0\n",
              "MultipleLines_No                         0.0\n",
              "MultipleLines_Yes                        0.0\n",
              "OnlineSecurity_No                        0.0\n",
              "OnlineSecurity_Yes                       0.0\n",
              "OnlineBackup_No                          0.0\n",
              "OnlineBackup_Yes                         0.0\n",
              "DeviceProtection_No                      0.0\n",
              "DeviceProtection_Yes                     0.0\n",
              "TechSupport_No                           0.0\n",
              "TechSupport_Yes                          0.0\n",
              "StreamingTV_No                           0.0\n",
              "StreamingTV_Yes                          0.0\n",
              "StreamingMovies_No                       0.0\n",
              "StreamingMovies_Yes                      0.0\n",
              "dtype: float64"
            ]
          },
          "metadata": {},
          "execution_count": 21
        }
      ]
    },
    {
      "cell_type": "code",
      "metadata": {
        "id": "qXq0PDUEu7m6",
        "colab": {
          "base_uri": "https://localhost:8080/"
        },
        "outputId": "0a67321e-da20-4d42-e5ad-6976b4389c96"
      },
      "source": [
        "\n",
        "telecom.info()"
      ],
      "execution_count": 22,
      "outputs": [
        {
          "output_type": "stream",
          "name": "stdout",
          "text": [
            "<class 'pandas.core.frame.DataFrame'>\n",
            "Int64Index: 7032 entries, 0 to 7042\n",
            "Data columns (total 32 columns):\n",
            " #   Column                                 Non-Null Count  Dtype  \n",
            "---  ------                                 --------------  -----  \n",
            " 0   customerID                             7032 non-null   object \n",
            " 1   tenure                                 7032 non-null   int64  \n",
            " 2   PhoneService                           7032 non-null   int64  \n",
            " 3   PaperlessBilling                       7032 non-null   int64  \n",
            " 4   MonthlyCharges                         7032 non-null   float64\n",
            " 5   TotalCharges                           7032 non-null   float64\n",
            " 6   Churn                                  7032 non-null   int64  \n",
            " 7   SeniorCitizen                          7032 non-null   int64  \n",
            " 8   Partner                                7032 non-null   int64  \n",
            " 9   Dependents                             7032 non-null   int64  \n",
            " 10  Contract_One year                      7032 non-null   uint8  \n",
            " 11  Contract_Two year                      7032 non-null   uint8  \n",
            " 12  PaymentMethod_Credit card (automatic)  7032 non-null   uint8  \n",
            " 13  PaymentMethod_Electronic check         7032 non-null   uint8  \n",
            " 14  PaymentMethod_Mailed check             7032 non-null   uint8  \n",
            " 15  gender_Male                            7032 non-null   uint8  \n",
            " 16  InternetService_Fiber optic            7032 non-null   uint8  \n",
            " 17  InternetService_No                     7032 non-null   uint8  \n",
            " 18  MultipleLines_No                       7032 non-null   uint8  \n",
            " 19  MultipleLines_Yes                      7032 non-null   uint8  \n",
            " 20  OnlineSecurity_No                      7032 non-null   uint8  \n",
            " 21  OnlineSecurity_Yes                     7032 non-null   uint8  \n",
            " 22  OnlineBackup_No                        7032 non-null   uint8  \n",
            " 23  OnlineBackup_Yes                       7032 non-null   uint8  \n",
            " 24  DeviceProtection_No                    7032 non-null   uint8  \n",
            " 25  DeviceProtection_Yes                   7032 non-null   uint8  \n",
            " 26  TechSupport_No                         7032 non-null   uint8  \n",
            " 27  TechSupport_Yes                        7032 non-null   uint8  \n",
            " 28  StreamingTV_No                         7032 non-null   uint8  \n",
            " 29  StreamingTV_Yes                        7032 non-null   uint8  \n",
            " 30  StreamingMovies_No                     7032 non-null   uint8  \n",
            " 31  StreamingMovies_Yes                    7032 non-null   uint8  \n",
            "dtypes: float64(2), int64(7), object(1), uint8(22)\n",
            "memory usage: 755.4+ KB\n"
          ]
        }
      ]
    },
    {
      "cell_type": "code",
      "metadata": {
        "id": "JjhTVwrMu7m7"
      },
      "source": [
        "\n",
        "df = pd.DataFrame(telecom, columns= ['tenure','MonthlyCharges','TotalCharges'])"
      ],
      "execution_count": 23,
      "outputs": []
    },
    {
      "cell_type": "code",
      "metadata": {
        "id": "JXo6pGByu7m7"
      },
      "source": [
        "\n",
        "\n",
        "std_df=(df-df.mean())/df.std()"
      ],
      "execution_count": 24,
      "outputs": []
    },
    {
      "cell_type": "code",
      "metadata": {
        "id": "nrapQBspu7m7"
      },
      "source": [
        "\n",
        "telecom = telecom.drop(['tenure','MonthlyCharges','TotalCharges'],axis=1)"
      ],
      "execution_count": 25,
      "outputs": []
    },
    {
      "cell_type": "code",
      "metadata": {
        "id": "UnuZUM5Ou7m7"
      },
      "source": [
        "\n",
        "telecom = pd.concat([telecom,std_df],axis=1)"
      ],
      "execution_count": 26,
      "outputs": []
    },
    {
      "cell_type": "code",
      "metadata": {
        "id": "_H89YJGZu7m8",
        "colab": {
          "base_uri": "https://localhost:8080/",
          "height": 313
        },
        "outputId": "70c9a044-c1e3-4fd7-d1fe-2c80786664de"
      },
      "source": [
        "\n",
        "telecom.tail()"
      ],
      "execution_count": 27,
      "outputs": [
        {
          "output_type": "execute_result",
          "data": {
            "text/html": [
              "<div>\n",
              "<style scoped>\n",
              "    .dataframe tbody tr th:only-of-type {\n",
              "        vertical-align: middle;\n",
              "    }\n",
              "\n",
              "    .dataframe tbody tr th {\n",
              "        vertical-align: top;\n",
              "    }\n",
              "\n",
              "    .dataframe thead th {\n",
              "        text-align: right;\n",
              "    }\n",
              "</style>\n",
              "<table border=\"1\" class=\"dataframe\">\n",
              "  <thead>\n",
              "    <tr style=\"text-align: right;\">\n",
              "      <th></th>\n",
              "      <th>customerID</th>\n",
              "      <th>PhoneService</th>\n",
              "      <th>PaperlessBilling</th>\n",
              "      <th>Churn</th>\n",
              "      <th>SeniorCitizen</th>\n",
              "      <th>Partner</th>\n",
              "      <th>Dependents</th>\n",
              "      <th>Contract_One year</th>\n",
              "      <th>Contract_Two year</th>\n",
              "      <th>PaymentMethod_Credit card (automatic)</th>\n",
              "      <th>PaymentMethod_Electronic check</th>\n",
              "      <th>PaymentMethod_Mailed check</th>\n",
              "      <th>gender_Male</th>\n",
              "      <th>InternetService_Fiber optic</th>\n",
              "      <th>InternetService_No</th>\n",
              "      <th>MultipleLines_No</th>\n",
              "      <th>MultipleLines_Yes</th>\n",
              "      <th>OnlineSecurity_No</th>\n",
              "      <th>OnlineSecurity_Yes</th>\n",
              "      <th>OnlineBackup_No</th>\n",
              "      <th>OnlineBackup_Yes</th>\n",
              "      <th>DeviceProtection_No</th>\n",
              "      <th>DeviceProtection_Yes</th>\n",
              "      <th>TechSupport_No</th>\n",
              "      <th>TechSupport_Yes</th>\n",
              "      <th>StreamingTV_No</th>\n",
              "      <th>StreamingTV_Yes</th>\n",
              "      <th>StreamingMovies_No</th>\n",
              "      <th>StreamingMovies_Yes</th>\n",
              "      <th>tenure</th>\n",
              "      <th>MonthlyCharges</th>\n",
              "      <th>TotalCharges</th>\n",
              "    </tr>\n",
              "  </thead>\n",
              "  <tbody>\n",
              "    <tr>\n",
              "      <th>7038</th>\n",
              "      <td>6840-RESVB</td>\n",
              "      <td>1</td>\n",
              "      <td>1</td>\n",
              "      <td>0</td>\n",
              "      <td>0</td>\n",
              "      <td>1</td>\n",
              "      <td>1</td>\n",
              "      <td>1</td>\n",
              "      <td>0</td>\n",
              "      <td>0</td>\n",
              "      <td>0</td>\n",
              "      <td>1</td>\n",
              "      <td>1</td>\n",
              "      <td>0</td>\n",
              "      <td>0</td>\n",
              "      <td>0</td>\n",
              "      <td>1</td>\n",
              "      <td>0</td>\n",
              "      <td>1</td>\n",
              "      <td>1</td>\n",
              "      <td>0</td>\n",
              "      <td>0</td>\n",
              "      <td>1</td>\n",
              "      <td>0</td>\n",
              "      <td>1</td>\n",
              "      <td>0</td>\n",
              "      <td>1</td>\n",
              "      <td>0</td>\n",
              "      <td>1</td>\n",
              "      <td>-0.343113</td>\n",
              "      <td>0.664821</td>\n",
              "      <td>-0.129171</td>\n",
              "    </tr>\n",
              "    <tr>\n",
              "      <th>7039</th>\n",
              "      <td>2234-XADUH</td>\n",
              "      <td>1</td>\n",
              "      <td>1</td>\n",
              "      <td>0</td>\n",
              "      <td>0</td>\n",
              "      <td>1</td>\n",
              "      <td>1</td>\n",
              "      <td>1</td>\n",
              "      <td>0</td>\n",
              "      <td>1</td>\n",
              "      <td>0</td>\n",
              "      <td>0</td>\n",
              "      <td>0</td>\n",
              "      <td>1</td>\n",
              "      <td>0</td>\n",
              "      <td>0</td>\n",
              "      <td>1</td>\n",
              "      <td>1</td>\n",
              "      <td>0</td>\n",
              "      <td>0</td>\n",
              "      <td>1</td>\n",
              "      <td>0</td>\n",
              "      <td>1</td>\n",
              "      <td>1</td>\n",
              "      <td>0</td>\n",
              "      <td>0</td>\n",
              "      <td>1</td>\n",
              "      <td>0</td>\n",
              "      <td>1</td>\n",
              "      <td>1.612459</td>\n",
              "      <td>1.276402</td>\n",
              "      <td>2.240896</td>\n",
              "    </tr>\n",
              "    <tr>\n",
              "      <th>7040</th>\n",
              "      <td>4801-JZAZL</td>\n",
              "      <td>0</td>\n",
              "      <td>1</td>\n",
              "      <td>0</td>\n",
              "      <td>0</td>\n",
              "      <td>1</td>\n",
              "      <td>1</td>\n",
              "      <td>0</td>\n",
              "      <td>0</td>\n",
              "      <td>0</td>\n",
              "      <td>1</td>\n",
              "      <td>0</td>\n",
              "      <td>0</td>\n",
              "      <td>0</td>\n",
              "      <td>0</td>\n",
              "      <td>0</td>\n",
              "      <td>0</td>\n",
              "      <td>0</td>\n",
              "      <td>1</td>\n",
              "      <td>1</td>\n",
              "      <td>0</td>\n",
              "      <td>1</td>\n",
              "      <td>0</td>\n",
              "      <td>1</td>\n",
              "      <td>0</td>\n",
              "      <td>1</td>\n",
              "      <td>0</td>\n",
              "      <td>1</td>\n",
              "      <td>0</td>\n",
              "      <td>-0.872746</td>\n",
              "      <td>-1.169921</td>\n",
              "      <td>-0.854453</td>\n",
              "    </tr>\n",
              "    <tr>\n",
              "      <th>7041</th>\n",
              "      <td>8361-LTMKD</td>\n",
              "      <td>1</td>\n",
              "      <td>1</td>\n",
              "      <td>1</td>\n",
              "      <td>1</td>\n",
              "      <td>1</td>\n",
              "      <td>0</td>\n",
              "      <td>0</td>\n",
              "      <td>0</td>\n",
              "      <td>0</td>\n",
              "      <td>0</td>\n",
              "      <td>1</td>\n",
              "      <td>1</td>\n",
              "      <td>1</td>\n",
              "      <td>0</td>\n",
              "      <td>0</td>\n",
              "      <td>1</td>\n",
              "      <td>1</td>\n",
              "      <td>0</td>\n",
              "      <td>1</td>\n",
              "      <td>0</td>\n",
              "      <td>1</td>\n",
              "      <td>0</td>\n",
              "      <td>1</td>\n",
              "      <td>0</td>\n",
              "      <td>1</td>\n",
              "      <td>0</td>\n",
              "      <td>1</td>\n",
              "      <td>0</td>\n",
              "      <td>-1.157934</td>\n",
              "      <td>0.319145</td>\n",
              "      <td>-0.872033</td>\n",
              "    </tr>\n",
              "    <tr>\n",
              "      <th>7042</th>\n",
              "      <td>3186-AJIEK</td>\n",
              "      <td>1</td>\n",
              "      <td>1</td>\n",
              "      <td>0</td>\n",
              "      <td>0</td>\n",
              "      <td>0</td>\n",
              "      <td>0</td>\n",
              "      <td>0</td>\n",
              "      <td>1</td>\n",
              "      <td>0</td>\n",
              "      <td>0</td>\n",
              "      <td>0</td>\n",
              "      <td>1</td>\n",
              "      <td>1</td>\n",
              "      <td>0</td>\n",
              "      <td>1</td>\n",
              "      <td>0</td>\n",
              "      <td>0</td>\n",
              "      <td>1</td>\n",
              "      <td>1</td>\n",
              "      <td>0</td>\n",
              "      <td>0</td>\n",
              "      <td>1</td>\n",
              "      <td>0</td>\n",
              "      <td>1</td>\n",
              "      <td>0</td>\n",
              "      <td>1</td>\n",
              "      <td>0</td>\n",
              "      <td>1</td>\n",
              "      <td>1.368012</td>\n",
              "      <td>1.357835</td>\n",
              "      <td>2.012201</td>\n",
              "    </tr>\n",
              "  </tbody>\n",
              "</table>\n",
              "</div>"
            ],
            "text/plain": [
              "      customerID  PhoneService  ...  MonthlyCharges  TotalCharges\n",
              "7038  6840-RESVB             1  ...        0.664821     -0.129171\n",
              "7039  2234-XADUH             1  ...        1.276402      2.240896\n",
              "7040  4801-JZAZL             0  ...       -1.169921     -0.854453\n",
              "7041  8361-LTMKD             1  ...        0.319145     -0.872033\n",
              "7042  3186-AJIEK             1  ...        1.357835      2.012201\n",
              "\n",
              "[5 rows x 32 columns]"
            ]
          },
          "metadata": {},
          "execution_count": 27
        }
      ]
    },
    {
      "cell_type": "code",
      "metadata": {
        "id": "R4Ap3ke1u7m8"
      },
      "source": [
        "\n",
        "churn = (sum(telecom['Churn'])/len(telecom['Churn'].index))*100\n"
      ],
      "execution_count": 28,
      "outputs": []
    },
    {
      "cell_type": "code",
      "metadata": {
        "id": "czzVaHEFu7m8",
        "colab": {
          "base_uri": "https://localhost:8080/"
        },
        "outputId": "6b020cce-188a-40c3-84c1-7d1569de6eab"
      },
      "source": [
        "\n",
        "churn"
      ],
      "execution_count": 29,
      "outputs": [
        {
          "output_type": "execute_result",
          "data": {
            "text/plain": [
              "26.578498293515356"
            ]
          },
          "metadata": {},
          "execution_count": 29
        }
      ]
    },
    {
      "cell_type": "code",
      "metadata": {
        "id": "u1qjTXq2u7m8"
      },
      "source": [
        "\n",
        "X = telecom.drop(['customerID','Churn'], axis=1)\n",
        "\n",
        "\n",
        "y = telecom['Churn']"
      ],
      "execution_count": 30,
      "outputs": []
    },
    {
      "cell_type": "code",
      "metadata": {
        "id": "j4p_DvJlu7m8",
        "colab": {
          "base_uri": "https://localhost:8080/"
        },
        "outputId": "13b7f6a7-94d1-4942-a810-b36116012758"
      },
      "source": [
        "\n",
        "y.head()"
      ],
      "execution_count": 31,
      "outputs": [
        {
          "output_type": "execute_result",
          "data": {
            "text/plain": [
              "0    0\n",
              "1    0\n",
              "2    1\n",
              "3    0\n",
              "4    1\n",
              "Name: Churn, dtype: int64"
            ]
          },
          "metadata": {},
          "execution_count": 31
        }
      ]
    },
    {
      "cell_type": "code",
      "metadata": {
        "id": "OOQjIhywu7m9",
        "colab": {
          "base_uri": "https://localhost:8080/"
        },
        "outputId": "d70f3836-d430-41ab-9154-675dde338bd5"
      },
      "source": [
        "\n",
        "import statsmodels.api as sm"
      ],
      "execution_count": 32,
      "outputs": [
        {
          "output_type": "stream",
          "name": "stderr",
          "text": [
            "/usr/local/lib/python3.7/dist-packages/statsmodels/tools/_testing.py:19: FutureWarning: pandas.util.testing is deprecated. Use the functions in the public API at pandas.testing instead.\n",
            "  import pandas.util.testing as tm\n"
          ]
        }
      ]
    },
    {
      "cell_type": "code",
      "metadata": {
        "id": "oXS56ELGu7m9"
      },
      "source": [
        "\n",
        "from sklearn.model_selection import train_test_split"
      ],
      "execution_count": 33,
      "outputs": []
    },
    {
      "cell_type": "code",
      "metadata": {
        "id": "G8pCKJ-Mu7m9"
      },
      "source": [
        "\n",
        "\n",
        "X=sm.add_constant(X)\n",
        "\n",
        "X_train, X_test, y_train, y_test = train_test_split(X, y, train_size=0.7, random_state=100)\n"
      ],
      "execution_count": 34,
      "outputs": []
    },
    {
      "cell_type": "code",
      "metadata": {
        "colab": {
          "base_uri": "https://localhost:8080/"
        },
        "id": "E_edfKkNqem_",
        "outputId": "aeead560-8e96-4c07-f25e-4e38eead1767"
      },
      "source": [
        "y_train.shape"
      ],
      "execution_count": 35,
      "outputs": [
        {
          "output_type": "execute_result",
          "data": {
            "text/plain": [
              "(4922,)"
            ]
          },
          "metadata": {},
          "execution_count": 35
        }
      ]
    },
    {
      "cell_type": "code",
      "metadata": {
        "colab": {
          "base_uri": "https://localhost:8080/"
        },
        "id": "R_n7Vr6kqi7g",
        "outputId": "813449e1-8750-46f9-fde7-ec6f531ab48f"
      },
      "source": [
        "X_train.shape"
      ],
      "execution_count": 36,
      "outputs": [
        {
          "output_type": "execute_result",
          "data": {
            "text/plain": [
              "(4922, 31)"
            ]
          },
          "metadata": {},
          "execution_count": 36
        }
      ]
    },
    {
      "cell_type": "code",
      "metadata": {
        "scrolled": false,
        "id": "e6w260sMu7m9",
        "colab": {
          "base_uri": "https://localhost:8080/",
          "height": 942
        },
        "outputId": "f56e8525-c44b-41f6-b38c-8e737591701a"
      },
      "source": [
        "\n",
        "logm1 = sm.Logit(y_train,X_train)\n",
        "\n",
        "\n",
        "logm1.fit().summary()\n"
      ],
      "execution_count": 37,
      "outputs": [
        {
          "output_type": "stream",
          "name": "stdout",
          "text": [
            "Optimization terminated successfully.\n",
            "         Current function value: 0.407291\n",
            "         Iterations 28\n"
          ]
        },
        {
          "output_type": "stream",
          "name": "stderr",
          "text": [
            "/usr/local/lib/python3.7/dist-packages/statsmodels/base/model.py:1286: RuntimeWarning: invalid value encountered in sqrt\n",
            "  bse_ = np.sqrt(np.diag(self.cov_params()))\n"
          ]
        },
        {
          "output_type": "execute_result",
          "data": {
            "text/html": [
              "<table class=\"simpletable\">\n",
              "<caption>Logit Regression Results</caption>\n",
              "<tr>\n",
              "  <th>Dep. Variable:</th>         <td>Churn</td>      <th>  No. Observations:  </th>  <td>  4922</td> \n",
              "</tr>\n",
              "<tr>\n",
              "  <th>Model:</th>                 <td>Logit</td>      <th>  Df Residuals:      </th>  <td>  4898</td> \n",
              "</tr>\n",
              "<tr>\n",
              "  <th>Method:</th>                 <td>MLE</td>       <th>  Df Model:          </th>  <td>    23</td> \n",
              "</tr>\n",
              "<tr>\n",
              "  <th>Date:</th>            <td>Thu, 25 Nov 2021</td> <th>  Pseudo R-squ.:     </th>  <td>0.2912</td> \n",
              "</tr>\n",
              "<tr>\n",
              "  <th>Time:</th>                <td>16:13:09</td>     <th>  Log-Likelihood:    </th> <td> -2004.7</td>\n",
              "</tr>\n",
              "<tr>\n",
              "  <th>converged:</th>             <td>True</td>       <th>  LL-Null:           </th> <td> -2828.2</td>\n",
              "</tr>\n",
              "<tr>\n",
              "  <th>Covariance Type:</th>     <td>nonrobust</td>    <th>  LLR p-value:       </th>  <td> 0.000</td> \n",
              "</tr>\n",
              "</table>\n",
              "<table class=\"simpletable\">\n",
              "<tr>\n",
              "                    <td></td>                       <th>coef</th>     <th>std err</th>      <th>z</th>      <th>P>|z|</th>  <th>[0.025</th>    <th>0.975]</th>  \n",
              "</tr>\n",
              "<tr>\n",
              "  <th>const</th>                                 <td>   -2.6600</td> <td> 1.86e+06</td> <td>-1.43e-06</td> <td> 1.000</td> <td>-3.64e+06</td> <td> 3.64e+06</td>\n",
              "</tr>\n",
              "<tr>\n",
              "  <th>PhoneService</th>                          <td>    0.8213</td> <td>  4.6e+05</td> <td> 1.79e-06</td> <td> 1.000</td> <td>-9.01e+05</td> <td> 9.01e+05</td>\n",
              "</tr>\n",
              "<tr>\n",
              "  <th>PaperlessBilling</th>                      <td>    0.3254</td> <td>    0.090</td> <td>    3.614</td> <td> 0.000</td> <td>    0.149</td> <td>    0.502</td>\n",
              "</tr>\n",
              "<tr>\n",
              "  <th>SeniorCitizen</th>                         <td>    0.3984</td> <td>    0.102</td> <td>    3.924</td> <td> 0.000</td> <td>    0.199</td> <td>    0.597</td>\n",
              "</tr>\n",
              "<tr>\n",
              "  <th>Partner</th>                               <td>    0.0374</td> <td>    0.094</td> <td>    0.399</td> <td> 0.690</td> <td>   -0.146</td> <td>    0.221</td>\n",
              "</tr>\n",
              "<tr>\n",
              "  <th>Dependents</th>                            <td>   -0.1430</td> <td>    0.107</td> <td>   -1.332</td> <td> 0.183</td> <td>   -0.353</td> <td>    0.067</td>\n",
              "</tr>\n",
              "<tr>\n",
              "  <th>Contract_One year</th>                     <td>   -0.6578</td> <td>    0.129</td> <td>   -5.106</td> <td> 0.000</td> <td>   -0.910</td> <td>   -0.405</td>\n",
              "</tr>\n",
              "<tr>\n",
              "  <th>Contract_Two year</th>                     <td>   -1.2455</td> <td>    0.212</td> <td>   -5.874</td> <td> 0.000</td> <td>   -1.661</td> <td>   -0.830</td>\n",
              "</tr>\n",
              "<tr>\n",
              "  <th>PaymentMethod_Credit card (automatic)</th> <td>   -0.2577</td> <td>    0.137</td> <td>   -1.883</td> <td> 0.060</td> <td>   -0.526</td> <td>    0.011</td>\n",
              "</tr>\n",
              "<tr>\n",
              "  <th>PaymentMethod_Electronic check</th>        <td>    0.1615</td> <td>    0.113</td> <td>    1.434</td> <td> 0.152</td> <td>   -0.059</td> <td>    0.382</td>\n",
              "</tr>\n",
              "<tr>\n",
              "  <th>PaymentMethod_Mailed check</th>            <td>   -0.2536</td> <td>    0.137</td> <td>   -1.845</td> <td> 0.065</td> <td>   -0.523</td> <td>    0.016</td>\n",
              "</tr>\n",
              "<tr>\n",
              "  <th>gender_Male</th>                           <td>   -0.0346</td> <td>    0.078</td> <td>   -0.442</td> <td> 0.658</td> <td>   -0.188</td> <td>    0.119</td>\n",
              "</tr>\n",
              "<tr>\n",
              "  <th>InternetService_Fiber optic</th>           <td>    2.5124</td> <td>    0.967</td> <td>    2.599</td> <td> 0.009</td> <td>    0.618</td> <td>    4.407</td>\n",
              "</tr>\n",
              "<tr>\n",
              "  <th>InternetService_No</th>                    <td>   -4.0530</td> <td> 1.82e+06</td> <td>-2.23e-06</td> <td> 1.000</td> <td>-3.56e+06</td> <td> 3.56e+06</td>\n",
              "</tr>\n",
              "<tr>\n",
              "  <th>MultipleLines_No</th>                      <td>    0.1295</td> <td> 3.02e+05</td> <td> 4.29e-07</td> <td> 1.000</td> <td>-5.92e+05</td> <td> 5.92e+05</td>\n",
              "</tr>\n",
              "<tr>\n",
              "  <th>MultipleLines_Yes</th>                     <td>    0.6918</td> <td> 3.75e+05</td> <td> 1.85e-06</td> <td> 1.000</td> <td>-7.35e+05</td> <td> 7.35e+05</td>\n",
              "</tr>\n",
              "<tr>\n",
              "  <th>OnlineSecurity_No</th>                     <td>   -0.9998</td> <td> 1.41e+06</td> <td>-7.11e-07</td> <td> 1.000</td> <td>-2.75e+06</td> <td> 2.75e+06</td>\n",
              "</tr>\n",
              "<tr>\n",
              "  <th>OnlineSecurity_Yes</th>                    <td>   -1.0243</td> <td> 1.44e+06</td> <td>-7.12e-07</td> <td> 1.000</td> <td>-2.82e+06</td> <td> 2.82e+06</td>\n",
              "</tr>\n",
              "<tr>\n",
              "  <th>OnlineBackup_No</th>                       <td>    0.7787</td> <td> 6.82e+05</td> <td> 1.14e-06</td> <td> 1.000</td> <td>-1.34e+06</td> <td> 1.34e+06</td>\n",
              "</tr>\n",
              "<tr>\n",
              "  <th>OnlineBackup_Yes</th>                      <td>    0.9528</td> <td> 1.26e+06</td> <td> 7.56e-07</td> <td> 1.000</td> <td>-2.47e+06</td> <td> 2.47e+06</td>\n",
              "</tr>\n",
              "<tr>\n",
              "  <th>DeviceProtection_No</th>                   <td>    0.0608</td> <td>      nan</td> <td>      nan</td> <td>   nan</td> <td>      nan</td> <td>      nan</td>\n",
              "</tr>\n",
              "<tr>\n",
              "  <th>DeviceProtection_Yes</th>                  <td>    0.3837</td> <td>      nan</td> <td>      nan</td> <td>   nan</td> <td>      nan</td> <td>      nan</td>\n",
              "</tr>\n",
              "<tr>\n",
              "  <th>TechSupport_No</th>                        <td>   -0.1521</td> <td>      nan</td> <td>      nan</td> <td>   nan</td> <td>      nan</td> <td>      nan</td>\n",
              "</tr>\n",
              "<tr>\n",
              "  <th>TechSupport_Yes</th>                       <td>   -0.1825</td> <td>      nan</td> <td>      nan</td> <td>   nan</td> <td>      nan</td> <td>      nan</td>\n",
              "</tr>\n",
              "<tr>\n",
              "  <th>StreamingTV_No</th>                        <td>   -0.6155</td> <td>      nan</td> <td>      nan</td> <td>   nan</td> <td>      nan</td> <td>      nan</td>\n",
              "</tr>\n",
              "<tr>\n",
              "  <th>StreamingTV_Yes</th>                       <td>    0.3443</td> <td>      nan</td> <td>      nan</td> <td>   nan</td> <td>      nan</td> <td>      nan</td>\n",
              "</tr>\n",
              "<tr>\n",
              "  <th>StreamingMovies_No</th>                    <td>   -0.3459</td> <td>      nan</td> <td>      nan</td> <td>   nan</td> <td>      nan</td> <td>      nan</td>\n",
              "</tr>\n",
              "<tr>\n",
              "  <th>StreamingMovies_Yes</th>                   <td>    0.5024</td> <td>      nan</td> <td>      nan</td> <td>   nan</td> <td>      nan</td> <td>      nan</td>\n",
              "</tr>\n",
              "<tr>\n",
              "  <th>tenure</th>                                <td>   -1.5198</td> <td>    0.190</td> <td>   -8.015</td> <td> 0.000</td> <td>   -1.891</td> <td>   -1.148</td>\n",
              "</tr>\n",
              "<tr>\n",
              "  <th>MonthlyCharges</th>                        <td>   -2.1817</td> <td>    1.160</td> <td>   -1.880</td> <td> 0.060</td> <td>   -4.456</td> <td>    0.092</td>\n",
              "</tr>\n",
              "<tr>\n",
              "  <th>TotalCharges</th>                          <td>    0.7329</td> <td>    0.198</td> <td>    3.705</td> <td> 0.000</td> <td>    0.345</td> <td>    1.121</td>\n",
              "</tr>\n",
              "</table>"
            ],
            "text/plain": [
              "<class 'statsmodels.iolib.summary.Summary'>\n",
              "\"\"\"\n",
              "                           Logit Regression Results                           \n",
              "==============================================================================\n",
              "Dep. Variable:                  Churn   No. Observations:                 4922\n",
              "Model:                          Logit   Df Residuals:                     4898\n",
              "Method:                           MLE   Df Model:                           23\n",
              "Date:                Thu, 25 Nov 2021   Pseudo R-squ.:                  0.2912\n",
              "Time:                        16:13:09   Log-Likelihood:                -2004.7\n",
              "converged:                       True   LL-Null:                       -2828.2\n",
              "Covariance Type:            nonrobust   LLR p-value:                     0.000\n",
              "=========================================================================================================\n",
              "                                            coef    std err          z      P>|z|      [0.025      0.975]\n",
              "---------------------------------------------------------------------------------------------------------\n",
              "const                                    -2.6600   1.86e+06  -1.43e-06      1.000   -3.64e+06    3.64e+06\n",
              "PhoneService                              0.8213    4.6e+05   1.79e-06      1.000   -9.01e+05    9.01e+05\n",
              "PaperlessBilling                          0.3254      0.090      3.614      0.000       0.149       0.502\n",
              "SeniorCitizen                             0.3984      0.102      3.924      0.000       0.199       0.597\n",
              "Partner                                   0.0374      0.094      0.399      0.690      -0.146       0.221\n",
              "Dependents                               -0.1430      0.107     -1.332      0.183      -0.353       0.067\n",
              "Contract_One year                        -0.6578      0.129     -5.106      0.000      -0.910      -0.405\n",
              "Contract_Two year                        -1.2455      0.212     -5.874      0.000      -1.661      -0.830\n",
              "PaymentMethod_Credit card (automatic)    -0.2577      0.137     -1.883      0.060      -0.526       0.011\n",
              "PaymentMethod_Electronic check            0.1615      0.113      1.434      0.152      -0.059       0.382\n",
              "PaymentMethod_Mailed check               -0.2536      0.137     -1.845      0.065      -0.523       0.016\n",
              "gender_Male                              -0.0346      0.078     -0.442      0.658      -0.188       0.119\n",
              "InternetService_Fiber optic               2.5124      0.967      2.599      0.009       0.618       4.407\n",
              "InternetService_No                       -4.0530   1.82e+06  -2.23e-06      1.000   -3.56e+06    3.56e+06\n",
              "MultipleLines_No                          0.1295   3.02e+05   4.29e-07      1.000   -5.92e+05    5.92e+05\n",
              "MultipleLines_Yes                         0.6918   3.75e+05   1.85e-06      1.000   -7.35e+05    7.35e+05\n",
              "OnlineSecurity_No                        -0.9998   1.41e+06  -7.11e-07      1.000   -2.75e+06    2.75e+06\n",
              "OnlineSecurity_Yes                       -1.0243   1.44e+06  -7.12e-07      1.000   -2.82e+06    2.82e+06\n",
              "OnlineBackup_No                           0.7787   6.82e+05   1.14e-06      1.000   -1.34e+06    1.34e+06\n",
              "OnlineBackup_Yes                          0.9528   1.26e+06   7.56e-07      1.000   -2.47e+06    2.47e+06\n",
              "DeviceProtection_No                       0.0608        nan        nan        nan         nan         nan\n",
              "DeviceProtection_Yes                      0.3837        nan        nan        nan         nan         nan\n",
              "TechSupport_No                           -0.1521        nan        nan        nan         nan         nan\n",
              "TechSupport_Yes                          -0.1825        nan        nan        nan         nan         nan\n",
              "StreamingTV_No                           -0.6155        nan        nan        nan         nan         nan\n",
              "StreamingTV_Yes                           0.3443        nan        nan        nan         nan         nan\n",
              "StreamingMovies_No                       -0.3459        nan        nan        nan         nan         nan\n",
              "StreamingMovies_Yes                       0.5024        nan        nan        nan         nan         nan\n",
              "tenure                                   -1.5198      0.190     -8.015      0.000      -1.891      -1.148\n",
              "MonthlyCharges                           -2.1817      1.160     -1.880      0.060      -4.456       0.092\n",
              "TotalCharges                              0.7329      0.198      3.705      0.000       0.345       1.121\n",
              "=========================================================================================================\n",
              "\"\"\""
            ]
          },
          "metadata": {},
          "execution_count": 37
        }
      ]
    },
    {
      "cell_type": "code",
      "metadata": {
        "colab": {
          "base_uri": "https://localhost:8080/"
        },
        "id": "tDmHPz3Xqy49",
        "outputId": "5d991f23-a5cb-47d0-c46b-24b5aa3227e5"
      },
      "source": [
        "X_train.shape"
      ],
      "execution_count": 38,
      "outputs": [
        {
          "output_type": "execute_result",
          "data": {
            "text/plain": [
              "(4922, 31)"
            ]
          },
          "metadata": {},
          "execution_count": 38
        }
      ]
    },
    {
      "cell_type": "code",
      "metadata": {
        "id": "OivBOhJcu7m-",
        "colab": {
          "base_uri": "https://localhost:8080/",
          "height": 461
        },
        "outputId": "8d8455b9-5b20-4a92-ef31-e51621d88a81"
      },
      "source": [
        "\n",
        "X = X.drop(['Partner','Dependents','PaymentMethod_Electronic check','gender_Male','InternetService_No','DeviceProtection_No','DeviceProtection_Yes'],axis=1)\n",
        "X"
      ],
      "execution_count": 39,
      "outputs": [
        {
          "output_type": "execute_result",
          "data": {
            "text/html": [
              "<div>\n",
              "<style scoped>\n",
              "    .dataframe tbody tr th:only-of-type {\n",
              "        vertical-align: middle;\n",
              "    }\n",
              "\n",
              "    .dataframe tbody tr th {\n",
              "        vertical-align: top;\n",
              "    }\n",
              "\n",
              "    .dataframe thead th {\n",
              "        text-align: right;\n",
              "    }\n",
              "</style>\n",
              "<table border=\"1\" class=\"dataframe\">\n",
              "  <thead>\n",
              "    <tr style=\"text-align: right;\">\n",
              "      <th></th>\n",
              "      <th>const</th>\n",
              "      <th>PhoneService</th>\n",
              "      <th>PaperlessBilling</th>\n",
              "      <th>SeniorCitizen</th>\n",
              "      <th>Contract_One year</th>\n",
              "      <th>Contract_Two year</th>\n",
              "      <th>PaymentMethod_Credit card (automatic)</th>\n",
              "      <th>PaymentMethod_Mailed check</th>\n",
              "      <th>InternetService_Fiber optic</th>\n",
              "      <th>MultipleLines_No</th>\n",
              "      <th>MultipleLines_Yes</th>\n",
              "      <th>OnlineSecurity_No</th>\n",
              "      <th>OnlineSecurity_Yes</th>\n",
              "      <th>OnlineBackup_No</th>\n",
              "      <th>OnlineBackup_Yes</th>\n",
              "      <th>TechSupport_No</th>\n",
              "      <th>TechSupport_Yes</th>\n",
              "      <th>StreamingTV_No</th>\n",
              "      <th>StreamingTV_Yes</th>\n",
              "      <th>StreamingMovies_No</th>\n",
              "      <th>StreamingMovies_Yes</th>\n",
              "      <th>tenure</th>\n",
              "      <th>MonthlyCharges</th>\n",
              "      <th>TotalCharges</th>\n",
              "    </tr>\n",
              "  </thead>\n",
              "  <tbody>\n",
              "    <tr>\n",
              "      <th>0</th>\n",
              "      <td>1.0</td>\n",
              "      <td>0</td>\n",
              "      <td>1</td>\n",
              "      <td>0</td>\n",
              "      <td>0</td>\n",
              "      <td>0</td>\n",
              "      <td>0</td>\n",
              "      <td>0</td>\n",
              "      <td>0</td>\n",
              "      <td>0</td>\n",
              "      <td>0</td>\n",
              "      <td>1</td>\n",
              "      <td>0</td>\n",
              "      <td>0</td>\n",
              "      <td>1</td>\n",
              "      <td>1</td>\n",
              "      <td>0</td>\n",
              "      <td>1</td>\n",
              "      <td>0</td>\n",
              "      <td>1</td>\n",
              "      <td>0</td>\n",
              "      <td>-1.280157</td>\n",
              "      <td>-1.161611</td>\n",
              "      <td>-0.994123</td>\n",
              "    </tr>\n",
              "    <tr>\n",
              "      <th>1</th>\n",
              "      <td>1.0</td>\n",
              "      <td>1</td>\n",
              "      <td>0</td>\n",
              "      <td>0</td>\n",
              "      <td>1</td>\n",
              "      <td>0</td>\n",
              "      <td>0</td>\n",
              "      <td>1</td>\n",
              "      <td>0</td>\n",
              "      <td>1</td>\n",
              "      <td>0</td>\n",
              "      <td>0</td>\n",
              "      <td>1</td>\n",
              "      <td>1</td>\n",
              "      <td>0</td>\n",
              "      <td>1</td>\n",
              "      <td>0</td>\n",
              "      <td>1</td>\n",
              "      <td>0</td>\n",
              "      <td>1</td>\n",
              "      <td>0</td>\n",
              "      <td>0.064298</td>\n",
              "      <td>-0.260859</td>\n",
              "      <td>-0.173727</td>\n",
              "    </tr>\n",
              "    <tr>\n",
              "      <th>2</th>\n",
              "      <td>1.0</td>\n",
              "      <td>1</td>\n",
              "      <td>1</td>\n",
              "      <td>0</td>\n",
              "      <td>0</td>\n",
              "      <td>0</td>\n",
              "      <td>0</td>\n",
              "      <td>1</td>\n",
              "      <td>0</td>\n",
              "      <td>1</td>\n",
              "      <td>0</td>\n",
              "      <td>0</td>\n",
              "      <td>1</td>\n",
              "      <td>0</td>\n",
              "      <td>1</td>\n",
              "      <td>1</td>\n",
              "      <td>0</td>\n",
              "      <td>1</td>\n",
              "      <td>0</td>\n",
              "      <td>1</td>\n",
              "      <td>0</td>\n",
              "      <td>-1.239416</td>\n",
              "      <td>-0.363897</td>\n",
              "      <td>-0.959581</td>\n",
              "    </tr>\n",
              "    <tr>\n",
              "      <th>3</th>\n",
              "      <td>1.0</td>\n",
              "      <td>0</td>\n",
              "      <td>0</td>\n",
              "      <td>0</td>\n",
              "      <td>1</td>\n",
              "      <td>0</td>\n",
              "      <td>0</td>\n",
              "      <td>0</td>\n",
              "      <td>0</td>\n",
              "      <td>0</td>\n",
              "      <td>0</td>\n",
              "      <td>0</td>\n",
              "      <td>1</td>\n",
              "      <td>1</td>\n",
              "      <td>0</td>\n",
              "      <td>0</td>\n",
              "      <td>1</td>\n",
              "      <td>1</td>\n",
              "      <td>0</td>\n",
              "      <td>1</td>\n",
              "      <td>0</td>\n",
              "      <td>0.512450</td>\n",
              "      <td>-0.747797</td>\n",
              "      <td>-0.195234</td>\n",
              "    </tr>\n",
              "    <tr>\n",
              "      <th>4</th>\n",
              "      <td>1.0</td>\n",
              "      <td>1</td>\n",
              "      <td>1</td>\n",
              "      <td>0</td>\n",
              "      <td>0</td>\n",
              "      <td>0</td>\n",
              "      <td>0</td>\n",
              "      <td>0</td>\n",
              "      <td>1</td>\n",
              "      <td>1</td>\n",
              "      <td>0</td>\n",
              "      <td>1</td>\n",
              "      <td>0</td>\n",
              "      <td>1</td>\n",
              "      <td>0</td>\n",
              "      <td>1</td>\n",
              "      <td>0</td>\n",
              "      <td>1</td>\n",
              "      <td>0</td>\n",
              "      <td>1</td>\n",
              "      <td>0</td>\n",
              "      <td>-1.239416</td>\n",
              "      <td>0.196164</td>\n",
              "      <td>-0.940391</td>\n",
              "    </tr>\n",
              "    <tr>\n",
              "      <th>...</th>\n",
              "      <td>...</td>\n",
              "      <td>...</td>\n",
              "      <td>...</td>\n",
              "      <td>...</td>\n",
              "      <td>...</td>\n",
              "      <td>...</td>\n",
              "      <td>...</td>\n",
              "      <td>...</td>\n",
              "      <td>...</td>\n",
              "      <td>...</td>\n",
              "      <td>...</td>\n",
              "      <td>...</td>\n",
              "      <td>...</td>\n",
              "      <td>...</td>\n",
              "      <td>...</td>\n",
              "      <td>...</td>\n",
              "      <td>...</td>\n",
              "      <td>...</td>\n",
              "      <td>...</td>\n",
              "      <td>...</td>\n",
              "      <td>...</td>\n",
              "      <td>...</td>\n",
              "      <td>...</td>\n",
              "      <td>...</td>\n",
              "    </tr>\n",
              "    <tr>\n",
              "      <th>7038</th>\n",
              "      <td>1.0</td>\n",
              "      <td>1</td>\n",
              "      <td>1</td>\n",
              "      <td>0</td>\n",
              "      <td>1</td>\n",
              "      <td>0</td>\n",
              "      <td>0</td>\n",
              "      <td>1</td>\n",
              "      <td>0</td>\n",
              "      <td>0</td>\n",
              "      <td>1</td>\n",
              "      <td>0</td>\n",
              "      <td>1</td>\n",
              "      <td>1</td>\n",
              "      <td>0</td>\n",
              "      <td>0</td>\n",
              "      <td>1</td>\n",
              "      <td>0</td>\n",
              "      <td>1</td>\n",
              "      <td>0</td>\n",
              "      <td>1</td>\n",
              "      <td>-0.343113</td>\n",
              "      <td>0.664821</td>\n",
              "      <td>-0.129171</td>\n",
              "    </tr>\n",
              "    <tr>\n",
              "      <th>7039</th>\n",
              "      <td>1.0</td>\n",
              "      <td>1</td>\n",
              "      <td>1</td>\n",
              "      <td>0</td>\n",
              "      <td>1</td>\n",
              "      <td>0</td>\n",
              "      <td>1</td>\n",
              "      <td>0</td>\n",
              "      <td>1</td>\n",
              "      <td>0</td>\n",
              "      <td>1</td>\n",
              "      <td>1</td>\n",
              "      <td>0</td>\n",
              "      <td>0</td>\n",
              "      <td>1</td>\n",
              "      <td>1</td>\n",
              "      <td>0</td>\n",
              "      <td>0</td>\n",
              "      <td>1</td>\n",
              "      <td>0</td>\n",
              "      <td>1</td>\n",
              "      <td>1.612459</td>\n",
              "      <td>1.276402</td>\n",
              "      <td>2.240896</td>\n",
              "    </tr>\n",
              "    <tr>\n",
              "      <th>7040</th>\n",
              "      <td>1.0</td>\n",
              "      <td>0</td>\n",
              "      <td>1</td>\n",
              "      <td>0</td>\n",
              "      <td>0</td>\n",
              "      <td>0</td>\n",
              "      <td>0</td>\n",
              "      <td>0</td>\n",
              "      <td>0</td>\n",
              "      <td>0</td>\n",
              "      <td>0</td>\n",
              "      <td>0</td>\n",
              "      <td>1</td>\n",
              "      <td>1</td>\n",
              "      <td>0</td>\n",
              "      <td>1</td>\n",
              "      <td>0</td>\n",
              "      <td>1</td>\n",
              "      <td>0</td>\n",
              "      <td>1</td>\n",
              "      <td>0</td>\n",
              "      <td>-0.872746</td>\n",
              "      <td>-1.169921</td>\n",
              "      <td>-0.854453</td>\n",
              "    </tr>\n",
              "    <tr>\n",
              "      <th>7041</th>\n",
              "      <td>1.0</td>\n",
              "      <td>1</td>\n",
              "      <td>1</td>\n",
              "      <td>1</td>\n",
              "      <td>0</td>\n",
              "      <td>0</td>\n",
              "      <td>0</td>\n",
              "      <td>1</td>\n",
              "      <td>1</td>\n",
              "      <td>0</td>\n",
              "      <td>1</td>\n",
              "      <td>1</td>\n",
              "      <td>0</td>\n",
              "      <td>1</td>\n",
              "      <td>0</td>\n",
              "      <td>1</td>\n",
              "      <td>0</td>\n",
              "      <td>1</td>\n",
              "      <td>0</td>\n",
              "      <td>1</td>\n",
              "      <td>0</td>\n",
              "      <td>-1.157934</td>\n",
              "      <td>0.319145</td>\n",
              "      <td>-0.872033</td>\n",
              "    </tr>\n",
              "    <tr>\n",
              "      <th>7042</th>\n",
              "      <td>1.0</td>\n",
              "      <td>1</td>\n",
              "      <td>1</td>\n",
              "      <td>0</td>\n",
              "      <td>0</td>\n",
              "      <td>1</td>\n",
              "      <td>0</td>\n",
              "      <td>0</td>\n",
              "      <td>1</td>\n",
              "      <td>1</td>\n",
              "      <td>0</td>\n",
              "      <td>0</td>\n",
              "      <td>1</td>\n",
              "      <td>1</td>\n",
              "      <td>0</td>\n",
              "      <td>0</td>\n",
              "      <td>1</td>\n",
              "      <td>0</td>\n",
              "      <td>1</td>\n",
              "      <td>0</td>\n",
              "      <td>1</td>\n",
              "      <td>1.368012</td>\n",
              "      <td>1.357835</td>\n",
              "      <td>2.012201</td>\n",
              "    </tr>\n",
              "  </tbody>\n",
              "</table>\n",
              "<p>7032 rows × 24 columns</p>\n",
              "</div>"
            ],
            "text/plain": [
              "      const  PhoneService  ...  MonthlyCharges  TotalCharges\n",
              "0       1.0             0  ...       -1.161611     -0.994123\n",
              "1       1.0             1  ...       -0.260859     -0.173727\n",
              "2       1.0             1  ...       -0.363897     -0.959581\n",
              "3       1.0             0  ...       -0.747797     -0.195234\n",
              "4       1.0             1  ...        0.196164     -0.940391\n",
              "...     ...           ...  ...             ...           ...\n",
              "7038    1.0             1  ...        0.664821     -0.129171\n",
              "7039    1.0             1  ...        1.276402      2.240896\n",
              "7040    1.0             0  ...       -1.169921     -0.854453\n",
              "7041    1.0             1  ...        0.319145     -0.872033\n",
              "7042    1.0             1  ...        1.357835      2.012201\n",
              "\n",
              "[7032 rows x 24 columns]"
            ]
          },
          "metadata": {},
          "execution_count": 39
        }
      ]
    },
    {
      "cell_type": "code",
      "metadata": {
        "colab": {
          "base_uri": "https://localhost:8080/"
        },
        "id": "jHiYUJ5Aq939",
        "outputId": "331fea0c-b99a-470d-ca15-79f3f4e6f4c7"
      },
      "source": [
        "X_train.shape"
      ],
      "execution_count": 40,
      "outputs": [
        {
          "output_type": "execute_result",
          "data": {
            "text/plain": [
              "(4922, 31)"
            ]
          },
          "metadata": {},
          "execution_count": 40
        }
      ]
    },
    {
      "cell_type": "code",
      "metadata": {
        "id": "DJNTEvSlu7m-"
      },
      "source": [
        "\n",
        "import matplotlib.pyplot as plt\n",
        "import seaborn as sns\n",
        "\n"
      ],
      "execution_count": 41,
      "outputs": []
    },
    {
      "cell_type": "code",
      "metadata": {
        "id": "0cHCkif3u7m-",
        "colab": {
          "base_uri": "https://localhost:8080/",
          "height": 788
        },
        "outputId": "8125a147-2cbb-49c9-9b9d-13dea8cbed54"
      },
      "source": [
        "\n",
        "plt.figure(figsize = (20,10))\n",
        "sns.heatmap(X.corr(),annot = True)\n",
        "plt.show()\n"
      ],
      "execution_count": 42,
      "outputs": [
        {
          "output_type": "display_data",
          "data": {
            "image/png": "[encoded data removed]",
            "text/plain": [
              "<Figure size 1440x720 with 2 Axes>"
            ]
          },
          "metadata": {
            "needs_background": "light"
          }
        }
      ]
    },
    {
      "cell_type": "code",
      "metadata": {
        "id": "v7b6GuTAu7m_"
      },
      "source": [
        "\n",
        "def correlation(dataset, threshold):\n",
        "    col_corr=set()\n",
        "    corr_matrix=dataset.corr()\n",
        "    for i in range(len(corr_matrix.columns)):\n",
        "      for j in range(i):\n",
        "         if abs(corr_matrix.iloc[i,j])> threshold:\n",
        "           colname=corr_matrix.columns[i]\n",
        "           col_corr.add(colname)\n",
        "\n",
        "\n",
        "     \n",
        "    \n",
        "    \n",
        "    \n",
        "    return col_corr"
      ],
      "execution_count": 43,
      "outputs": []
    },
    {
      "cell_type": "code",
      "metadata": {
        "id": "qHfB1yVku7m_",
        "colab": {
          "base_uri": "https://localhost:8080/"
        },
        "outputId": "fff05a11-261f-41d6-de3e-c627ca1c4435"
      },
      "source": [
        "\n",
        "corr_features = correlation(X,0.7)\n",
        "\n",
        "\n",
        "len(set(corr_features))"
      ],
      "execution_count": 44,
      "outputs": [
        {
          "output_type": "execute_result",
          "data": {
            "text/plain": [
              "3"
            ]
          },
          "metadata": {},
          "execution_count": 44
        }
      ]
    },
    {
      "cell_type": "code",
      "metadata": {
        "id": "puFmEZHqu7m_",
        "colab": {
          "base_uri": "https://localhost:8080/"
        },
        "outputId": "d78cccd9-9b9d-4a89-d275-dbdc5dcea12e"
      },
      "source": [
        "\n",
        "print(corr_features)\n"
      ],
      "execution_count": 45,
      "outputs": [
        {
          "output_type": "stream",
          "name": "stdout",
          "text": [
            "{'TotalCharges', 'MonthlyCharges', 'MultipleLines_Yes'}\n"
          ]
        }
      ]
    },
    {
      "cell_type": "code",
      "metadata": {
        "id": "rQ-9ODZDu7m_",
        "colab": {
          "base_uri": "https://localhost:8080/",
          "height": 461
        },
        "outputId": "524b727a-a816-432a-e9bd-7ed7aab6a9a4"
      },
      "source": [
        "\n",
        "\n",
        "X=X.drop(['TotalCharges', 'MonthlyCharges', 'MultipleLines_Yes'],axis=1)\n",
        "X"
      ],
      "execution_count": 46,
      "outputs": [
        {
          "output_type": "execute_result",
          "data": {
            "text/html": [
              "<div>\n",
              "<style scoped>\n",
              "    .dataframe tbody tr th:only-of-type {\n",
              "        vertical-align: middle;\n",
              "    }\n",
              "\n",
              "    .dataframe tbody tr th {\n",
              "        vertical-align: top;\n",
              "    }\n",
              "\n",
              "    .dataframe thead th {\n",
              "        text-align: right;\n",
              "    }\n",
              "</style>\n",
              "<table border=\"1\" class=\"dataframe\">\n",
              "  <thead>\n",
              "    <tr style=\"text-align: right;\">\n",
              "      <th></th>\n",
              "      <th>const</th>\n",
              "      <th>PhoneService</th>\n",
              "      <th>PaperlessBilling</th>\n",
              "      <th>SeniorCitizen</th>\n",
              "      <th>Contract_One year</th>\n",
              "      <th>Contract_Two year</th>\n",
              "      <th>PaymentMethod_Credit card (automatic)</th>\n",
              "      <th>PaymentMethod_Mailed check</th>\n",
              "      <th>InternetService_Fiber optic</th>\n",
              "      <th>MultipleLines_No</th>\n",
              "      <th>OnlineSecurity_No</th>\n",
              "      <th>OnlineSecurity_Yes</th>\n",
              "      <th>OnlineBackup_No</th>\n",
              "      <th>OnlineBackup_Yes</th>\n",
              "      <th>TechSupport_No</th>\n",
              "      <th>TechSupport_Yes</th>\n",
              "      <th>StreamingTV_No</th>\n",
              "      <th>StreamingTV_Yes</th>\n",
              "      <th>StreamingMovies_No</th>\n",
              "      <th>StreamingMovies_Yes</th>\n",
              "      <th>tenure</th>\n",
              "    </tr>\n",
              "  </thead>\n",
              "  <tbody>\n",
              "    <tr>\n",
              "      <th>0</th>\n",
              "      <td>1.0</td>\n",
              "      <td>0</td>\n",
              "      <td>1</td>\n",
              "      <td>0</td>\n",
              "      <td>0</td>\n",
              "      <td>0</td>\n",
              "      <td>0</td>\n",
              "      <td>0</td>\n",
              "      <td>0</td>\n",
              "      <td>0</td>\n",
              "      <td>1</td>\n",
              "      <td>0</td>\n",
              "      <td>0</td>\n",
              "      <td>1</td>\n",
              "      <td>1</td>\n",
              "      <td>0</td>\n",
              "      <td>1</td>\n",
              "      <td>0</td>\n",
              "      <td>1</td>\n",
              "      <td>0</td>\n",
              "      <td>-1.280157</td>\n",
              "    </tr>\n",
              "    <tr>\n",
              "      <th>1</th>\n",
              "      <td>1.0</td>\n",
              "      <td>1</td>\n",
              "      <td>0</td>\n",
              "      <td>0</td>\n",
              "      <td>1</td>\n",
              "      <td>0</td>\n",
              "      <td>0</td>\n",
              "      <td>1</td>\n",
              "      <td>0</td>\n",
              "      <td>1</td>\n",
              "      <td>0</td>\n",
              "      <td>1</td>\n",
              "      <td>1</td>\n",
              "      <td>0</td>\n",
              "      <td>1</td>\n",
              "      <td>0</td>\n",
              "      <td>1</td>\n",
              "      <td>0</td>\n",
              "      <td>1</td>\n",
              "      <td>0</td>\n",
              "      <td>0.064298</td>\n",
              "    </tr>\n",
              "    <tr>\n",
              "      <th>2</th>\n",
              "      <td>1.0</td>\n",
              "      <td>1</td>\n",
              "      <td>1</td>\n",
              "      <td>0</td>\n",
              "      <td>0</td>\n",
              "      <td>0</td>\n",
              "      <td>0</td>\n",
              "      <td>1</td>\n",
              "      <td>0</td>\n",
              "      <td>1</td>\n",
              "      <td>0</td>\n",
              "      <td>1</td>\n",
              "      <td>0</td>\n",
              "      <td>1</td>\n",
              "      <td>1</td>\n",
              "      <td>0</td>\n",
              "      <td>1</td>\n",
              "      <td>0</td>\n",
              "      <td>1</td>\n",
              "      <td>0</td>\n",
              "      <td>-1.239416</td>\n",
              "    </tr>\n",
              "    <tr>\n",
              "      <th>3</th>\n",
              "      <td>1.0</td>\n",
              "      <td>0</td>\n",
              "      <td>0</td>\n",
              "      <td>0</td>\n",
              "      <td>1</td>\n",
              "      <td>0</td>\n",
              "      <td>0</td>\n",
              "      <td>0</td>\n",
              "      <td>0</td>\n",
              "      <td>0</td>\n",
              "      <td>0</td>\n",
              "      <td>1</td>\n",
              "      <td>1</td>\n",
              "      <td>0</td>\n",
              "      <td>0</td>\n",
              "      <td>1</td>\n",
              "      <td>1</td>\n",
              "      <td>0</td>\n",
              "      <td>1</td>\n",
              "      <td>0</td>\n",
              "      <td>0.512450</td>\n",
              "    </tr>\n",
              "    <tr>\n",
              "      <th>4</th>\n",
              "      <td>1.0</td>\n",
              "      <td>1</td>\n",
              "      <td>1</td>\n",
              "      <td>0</td>\n",
              "      <td>0</td>\n",
              "      <td>0</td>\n",
              "      <td>0</td>\n",
              "      <td>0</td>\n",
              "      <td>1</td>\n",
              "      <td>1</td>\n",
              "      <td>1</td>\n",
              "      <td>0</td>\n",
              "      <td>1</td>\n",
              "      <td>0</td>\n",
              "      <td>1</td>\n",
              "      <td>0</td>\n",
              "      <td>1</td>\n",
              "      <td>0</td>\n",
              "      <td>1</td>\n",
              "      <td>0</td>\n",
              "      <td>-1.239416</td>\n",
              "    </tr>\n",
              "    <tr>\n",
              "      <th>...</th>\n",
              "      <td>...</td>\n",
              "      <td>...</td>\n",
              "      <td>...</td>\n",
              "      <td>...</td>\n",
              "      <td>...</td>\n",
              "      <td>...</td>\n",
              "      <td>...</td>\n",
              "      <td>...</td>\n",
              "      <td>...</td>\n",
              "      <td>...</td>\n",
              "      <td>...</td>\n",
              "      <td>...</td>\n",
              "      <td>...</td>\n",
              "      <td>...</td>\n",
              "      <td>...</td>\n",
              "      <td>...</td>\n",
              "      <td>...</td>\n",
              "      <td>...</td>\n",
              "      <td>...</td>\n",
              "      <td>...</td>\n",
              "      <td>...</td>\n",
              "    </tr>\n",
              "    <tr>\n",
              "      <th>7038</th>\n",
              "      <td>1.0</td>\n",
              "      <td>1</td>\n",
              "      <td>1</td>\n",
              "      <td>0</td>\n",
              "      <td>1</td>\n",
              "      <td>0</td>\n",
              "      <td>0</td>\n",
              "      <td>1</td>\n",
              "      <td>0</td>\n",
              "      <td>0</td>\n",
              "      <td>0</td>\n",
              "      <td>1</td>\n",
              "      <td>1</td>\n",
              "      <td>0</td>\n",
              "      <td>0</td>\n",
              "      <td>1</td>\n",
              "      <td>0</td>\n",
              "      <td>1</td>\n",
              "      <td>0</td>\n",
              "      <td>1</td>\n",
              "      <td>-0.343113</td>\n",
              "    </tr>\n",
              "    <tr>\n",
              "      <th>7039</th>\n",
              "      <td>1.0</td>\n",
              "      <td>1</td>\n",
              "      <td>1</td>\n",
              "      <td>0</td>\n",
              "      <td>1</td>\n",
              "      <td>0</td>\n",
              "      <td>1</td>\n",
              "      <td>0</td>\n",
              "      <td>1</td>\n",
              "      <td>0</td>\n",
              "      <td>1</td>\n",
              "      <td>0</td>\n",
              "      <td>0</td>\n",
              "      <td>1</td>\n",
              "      <td>1</td>\n",
              "      <td>0</td>\n",
              "      <td>0</td>\n",
              "      <td>1</td>\n",
              "      <td>0</td>\n",
              "      <td>1</td>\n",
              "      <td>1.612459</td>\n",
              "    </tr>\n",
              "    <tr>\n",
              "      <th>7040</th>\n",
              "      <td>1.0</td>\n",
              "      <td>0</td>\n",
              "      <td>1</td>\n",
              "      <td>0</td>\n",
              "      <td>0</td>\n",
              "      <td>0</td>\n",
              "      <td>0</td>\n",
              "      <td>0</td>\n",
              "      <td>0</td>\n",
              "      <td>0</td>\n",
              "      <td>0</td>\n",
              "      <td>1</td>\n",
              "      <td>1</td>\n",
              "      <td>0</td>\n",
              "      <td>1</td>\n",
              "      <td>0</td>\n",
              "      <td>1</td>\n",
              "      <td>0</td>\n",
              "      <td>1</td>\n",
              "      <td>0</td>\n",
              "      <td>-0.872746</td>\n",
              "    </tr>\n",
              "    <tr>\n",
              "      <th>7041</th>\n",
              "      <td>1.0</td>\n",
              "      <td>1</td>\n",
              "      <td>1</td>\n",
              "      <td>1</td>\n",
              "      <td>0</td>\n",
              "      <td>0</td>\n",
              "      <td>0</td>\n",
              "      <td>1</td>\n",
              "      <td>1</td>\n",
              "      <td>0</td>\n",
              "      <td>1</td>\n",
              "      <td>0</td>\n",
              "      <td>1</td>\n",
              "      <td>0</td>\n",
              "      <td>1</td>\n",
              "      <td>0</td>\n",
              "      <td>1</td>\n",
              "      <td>0</td>\n",
              "      <td>1</td>\n",
              "      <td>0</td>\n",
              "      <td>-1.157934</td>\n",
              "    </tr>\n",
              "    <tr>\n",
              "      <th>7042</th>\n",
              "      <td>1.0</td>\n",
              "      <td>1</td>\n",
              "      <td>1</td>\n",
              "      <td>0</td>\n",
              "      <td>0</td>\n",
              "      <td>1</td>\n",
              "      <td>0</td>\n",
              "      <td>0</td>\n",
              "      <td>1</td>\n",
              "      <td>1</td>\n",
              "      <td>0</td>\n",
              "      <td>1</td>\n",
              "      <td>1</td>\n",
              "      <td>0</td>\n",
              "      <td>0</td>\n",
              "      <td>1</td>\n",
              "      <td>0</td>\n",
              "      <td>1</td>\n",
              "      <td>0</td>\n",
              "      <td>1</td>\n",
              "      <td>1.368012</td>\n",
              "    </tr>\n",
              "  </tbody>\n",
              "</table>\n",
              "<p>7032 rows × 21 columns</p>\n",
              "</div>"
            ],
            "text/plain": [
              "      const  PhoneService  ...  StreamingMovies_Yes    tenure\n",
              "0       1.0             0  ...                    0 -1.280157\n",
              "1       1.0             1  ...                    0  0.064298\n",
              "2       1.0             1  ...                    0 -1.239416\n",
              "3       1.0             0  ...                    0  0.512450\n",
              "4       1.0             1  ...                    0 -1.239416\n",
              "...     ...           ...  ...                  ...       ...\n",
              "7038    1.0             1  ...                    1 -0.343113\n",
              "7039    1.0             1  ...                    1  1.612459\n",
              "7040    1.0             0  ...                    0 -0.872746\n",
              "7041    1.0             1  ...                    0 -1.157934\n",
              "7042    1.0             1  ...                    1  1.368012\n",
              "\n",
              "[7032 rows x 21 columns]"
            ]
          },
          "metadata": {},
          "execution_count": 46
        }
      ]
    },
    {
      "cell_type": "code",
      "metadata": {
        "id": "lNwkVrMsu7nA",
        "colab": {
          "base_uri": "https://localhost:8080/"
        },
        "outputId": "d10c366c-06be-4b6e-de8a-db1b2d1240e5"
      },
      "source": [
        "\n",
        "from statsmodels.stats.outliers_influence import variance_inflation_factor\n",
        "\n",
        "vif=pd.DataFrame()\n",
        "\n",
        "vif[\"variables\"] =X.columns\n",
        "\n",
        "vif[\"VIF\"] =  [variance_inflation_factor(X.values,i) for i in range(X.shape[1])]\n"
      ],
      "execution_count": 47,
      "outputs": [
        {
          "output_type": "stream",
          "name": "stderr",
          "text": [
            "/usr/local/lib/python3.7/dist-packages/statsmodels/stats/outliers_influence.py:185: RuntimeWarning: divide by zero encountered in double_scalars\n",
            "  vif = 1. / (1. - r_squared_i)\n"
          ]
        }
      ]
    },
    {
      "cell_type": "code",
      "metadata": {
        "id": "6HTu0kFdu7nA",
        "colab": {
          "base_uri": "https://localhost:8080/"
        },
        "outputId": "506b23d2-79c4-4b84-d638-87e732177ef4"
      },
      "source": [
        "\n",
        "print(vif)"
      ],
      "execution_count": 48,
      "outputs": [
        {
          "output_type": "stream",
          "name": "stdout",
          "text": [
            "                                variables        VIF\n",
            "0                                   const  26.342007\n",
            "1                            PhoneService   1.451676\n",
            "2                        PaperlessBilling   1.205664\n",
            "3                           SeniorCitizen   1.111546\n",
            "4                       Contract_One year   1.604685\n",
            "5                       Contract_Two year   2.585350\n",
            "6   PaymentMethod_Credit card (automatic)   1.167402\n",
            "7              PaymentMethod_Mailed check   1.368714\n",
            "8             InternetService_Fiber optic   1.988001\n",
            "9                        MultipleLines_No   1.456002\n",
            "10                      OnlineSecurity_No        inf\n",
            "11                     OnlineSecurity_Yes        inf\n",
            "12                        OnlineBackup_No        inf\n",
            "13                       OnlineBackup_Yes        inf\n",
            "14                         TechSupport_No        inf\n",
            "15                        TechSupport_Yes        inf\n",
            "16                         StreamingTV_No        inf\n",
            "17                        StreamingTV_Yes        inf\n",
            "18                     StreamingMovies_No        inf\n",
            "19                    StreamingMovies_Yes        inf\n",
            "20                                 tenure   2.631860\n"
          ]
        }
      ]
    },
    {
      "cell_type": "code",
      "metadata": {
        "id": "m9J8zC0iu7nA"
      },
      "source": [
        "\n",
        "X= X.drop(['OnlineSecurity_No','OnlineSecurity_Yes','OnlineBackup_No','OnlineBackup_Yes','TechSupport_No','TechSupport_Yes','StreamingTV_No','StreamingTV_Yes','StreamingMovies_No','StreamingMovies_Yes'],axis=1)\n",
        "\n"
      ],
      "execution_count": 49,
      "outputs": []
    },
    {
      "cell_type": "code",
      "metadata": {
        "id": "Y845Hm1Mu7nA",
        "colab": {
          "base_uri": "https://localhost:8080/",
          "height": 788
        },
        "outputId": "69ee80ef-9cc6-4018-a65a-085b2b29d749"
      },
      "source": [
        "\n",
        "plt.figure(figsize = (20,10))\n",
        "sns.heatmap(X.corr(),annot = True)\n",
        "plt.show()\n"
      ],
      "execution_count": 50,
      "outputs": [
        {
          "output_type": "display_data",
          "data": {
            "image/png": "[encoded data removed]",
            "text/plain": [
              "<Figure size 1440x720 with 2 Axes>"
            ]
          },
          "metadata": {
            "needs_background": "light"
          }
        }
      ]
    },
    {
      "cell_type": "code",
      "metadata": {
        "id": "4qkHjaoHu7nB",
        "colab": {
          "base_uri": "https://localhost:8080/",
          "height": 488
        },
        "outputId": "4aa2ba4d-54cd-4283-8728-61973db6bcc2"
      },
      "source": [
        "\n",
        "X_train, X_test, y_train, y_test = train_test_split(X, y, train_size=0.7, random_state=100)\n",
        "\n",
        "\n",
        "logm2 = sm.Logit(y_train,X_train)\n",
        "\n",
        "logm2.fit().summary()\n"
      ],
      "execution_count": 51,
      "outputs": [
        {
          "output_type": "stream",
          "name": "stdout",
          "text": [
            "Optimization terminated successfully.\n",
            "         Current function value: 0.417905\n",
            "         Iterations 8\n"
          ]
        },
        {
          "output_type": "execute_result",
          "data": {
            "text/html": [
              "<table class=\"simpletable\">\n",
              "<caption>Logit Regression Results</caption>\n",
              "<tr>\n",
              "  <th>Dep. Variable:</th>         <td>Churn</td>      <th>  No. Observations:  </th>  <td>  4922</td> \n",
              "</tr>\n",
              "<tr>\n",
              "  <th>Model:</th>                 <td>Logit</td>      <th>  Df Residuals:      </th>  <td>  4911</td> \n",
              "</tr>\n",
              "<tr>\n",
              "  <th>Method:</th>                 <td>MLE</td>       <th>  Df Model:          </th>  <td>    10</td> \n",
              "</tr>\n",
              "<tr>\n",
              "  <th>Date:</th>            <td>Thu, 25 Nov 2021</td> <th>  Pseudo R-squ.:     </th>  <td>0.2727</td> \n",
              "</tr>\n",
              "<tr>\n",
              "  <th>Time:</th>                <td>16:13:13</td>     <th>  Log-Likelihood:    </th> <td> -2056.9</td>\n",
              "</tr>\n",
              "<tr>\n",
              "  <th>converged:</th>             <td>True</td>       <th>  LL-Null:           </th> <td> -2828.2</td>\n",
              "</tr>\n",
              "<tr>\n",
              "  <th>Covariance Type:</th>     <td>nonrobust</td>    <th>  LLR p-value:       </th>  <td> 0.000</td> \n",
              "</tr>\n",
              "</table>\n",
              "<table class=\"simpletable\">\n",
              "<tr>\n",
              "                    <td></td>                       <th>coef</th>     <th>std err</th>      <th>z</th>      <th>P>|z|</th>  <th>[0.025</th>    <th>0.975]</th>  \n",
              "</tr>\n",
              "<tr>\n",
              "  <th>const</th>                                 <td>   -1.2686</td> <td>    0.151</td> <td>   -8.421</td> <td> 0.000</td> <td>   -1.564</td> <td>   -0.973</td>\n",
              "</tr>\n",
              "<tr>\n",
              "  <th>PhoneService</th>                          <td>   -0.4334</td> <td>    0.156</td> <td>   -2.771</td> <td> 0.006</td> <td>   -0.740</td> <td>   -0.127</td>\n",
              "</tr>\n",
              "<tr>\n",
              "  <th>PaperlessBilling</th>                      <td>    0.4239</td> <td>    0.088</td> <td>    4.831</td> <td> 0.000</td> <td>    0.252</td> <td>    0.596</td>\n",
              "</tr>\n",
              "<tr>\n",
              "  <th>SeniorCitizen</th>                         <td>    0.4801</td> <td>    0.099</td> <td>    4.830</td> <td> 0.000</td> <td>    0.285</td> <td>    0.675</td>\n",
              "</tr>\n",
              "<tr>\n",
              "  <th>Contract_One year</th>                     <td>   -0.7379</td> <td>    0.124</td> <td>   -5.973</td> <td> 0.000</td> <td>   -0.980</td> <td>   -0.496</td>\n",
              "</tr>\n",
              "<tr>\n",
              "  <th>Contract_Two year</th>                     <td>   -1.4344</td> <td>    0.203</td> <td>   -7.076</td> <td> 0.000</td> <td>   -1.832</td> <td>   -1.037</td>\n",
              "</tr>\n",
              "<tr>\n",
              "  <th>PaymentMethod_Credit card (automatic)</th> <td>   -0.4385</td> <td>    0.112</td> <td>   -3.927</td> <td> 0.000</td> <td>   -0.657</td> <td>   -0.220</td>\n",
              "</tr>\n",
              "<tr>\n",
              "  <th>PaymentMethod_Mailed check</th>            <td>   -0.4864</td> <td>    0.107</td> <td>   -4.560</td> <td> 0.000</td> <td>   -0.695</td> <td>   -0.277</td>\n",
              "</tr>\n",
              "<tr>\n",
              "  <th>InternetService_Fiber optic</th>           <td>    1.2979</td> <td>    0.099</td> <td>   13.065</td> <td> 0.000</td> <td>    1.103</td> <td>    1.493</td>\n",
              "</tr>\n",
              "<tr>\n",
              "  <th>MultipleLines_No</th>                      <td>   -0.3268</td> <td>    0.094</td> <td>   -3.487</td> <td> 0.000</td> <td>   -0.511</td> <td>   -0.143</td>\n",
              "</tr>\n",
              "<tr>\n",
              "  <th>tenure</th>                                <td>   -0.9134</td> <td>    0.063</td> <td>  -14.468</td> <td> 0.000</td> <td>   -1.037</td> <td>   -0.790</td>\n",
              "</tr>\n",
              "</table>"
            ],
            "text/plain": [
              "<class 'statsmodels.iolib.summary.Summary'>\n",
              "\"\"\"\n",
              "                           Logit Regression Results                           \n",
              "==============================================================================\n",
              "Dep. Variable:                  Churn   No. Observations:                 4922\n",
              "Model:                          Logit   Df Residuals:                     4911\n",
              "Method:                           MLE   Df Model:                           10\n",
              "Date:                Thu, 25 Nov 2021   Pseudo R-squ.:                  0.2727\n",
              "Time:                        16:13:13   Log-Likelihood:                -2056.9\n",
              "converged:                       True   LL-Null:                       -2828.2\n",
              "Covariance Type:            nonrobust   LLR p-value:                     0.000\n",
              "=========================================================================================================\n",
              "                                            coef    std err          z      P>|z|      [0.025      0.975]\n",
              "---------------------------------------------------------------------------------------------------------\n",
              "const                                    -1.2686      0.151     -8.421      0.000      -1.564      -0.973\n",
              "PhoneService                             -0.4334      0.156     -2.771      0.006      -0.740      -0.127\n",
              "PaperlessBilling                          0.4239      0.088      4.831      0.000       0.252       0.596\n",
              "SeniorCitizen                             0.4801      0.099      4.830      0.000       0.285       0.675\n",
              "Contract_One year                        -0.7379      0.124     -5.973      0.000      -0.980      -0.496\n",
              "Contract_Two year                        -1.4344      0.203     -7.076      0.000      -1.832      -1.037\n",
              "PaymentMethod_Credit card (automatic)    -0.4385      0.112     -3.927      0.000      -0.657      -0.220\n",
              "PaymentMethod_Mailed check               -0.4864      0.107     -4.560      0.000      -0.695      -0.277\n",
              "InternetService_Fiber optic               1.2979      0.099     13.065      0.000       1.103       1.493\n",
              "MultipleLines_No                         -0.3268      0.094     -3.487      0.000      -0.511      -0.143\n",
              "tenure                                   -0.9134      0.063    -14.468      0.000      -1.037      -0.790\n",
              "=========================================================================================================\n",
              "\"\"\""
            ]
          },
          "metadata": {},
          "execution_count": 51
        }
      ]
    },
    {
      "cell_type": "code",
      "metadata": {
        "id": "hNofWTUwu7nB",
        "colab": {
          "base_uri": "https://localhost:8080/"
        },
        "outputId": "ce0d000c-54db-4e81-b996-a31b2e9a0863"
      },
      "source": [
        "\n",
        "from sklearn.feature_selection import RFE\n",
        "from sklearn.linear_model import LogisticRegression\n",
        "\n",
        "\n",
        "logreg = LogisticRegression()\n",
        "\n",
        " \n",
        "rfe = RFE(logreg)       \n",
        "\n",
        "\n",
        "rfe = rfe.fit(X_train,y_train) \n",
        "\n",
        "\n",
        "print(\"Selected Features: %s\" % rfe.support_)     \n",
        "\n",
        "print(\"Feature Ranking: %s\" % rfe.ranking_)           "
      ],
      "execution_count": 52,
      "outputs": [
        {
          "output_type": "stream",
          "name": "stdout",
          "text": [
            "Selected Features: [False  True False False  True  True False False  True False  True]\n",
            "Feature Ranking: [7 1 3 2 1 1 5 4 1 6 1]\n"
          ]
        }
      ]
    },
    {
      "cell_type": "code",
      "metadata": {
        "id": "xHc1RArcu7nB",
        "colab": {
          "base_uri": "https://localhost:8080/"
        },
        "outputId": "8dd1fb59-3bd3-49b4-9185-ba41243f0e78"
      },
      "source": [
        "\n",
        "for feature in rfe.support_.nonzero():\n",
        "  print(X_train.columns[feature])"
      ],
      "execution_count": 53,
      "outputs": [
        {
          "output_type": "stream",
          "name": "stdout",
          "text": [
            "Index(['PhoneService', 'Contract_One year', 'Contract_Two year',\n",
            "       'InternetService_Fiber optic', 'tenure'],\n",
            "      dtype='object')\n"
          ]
        }
      ]
    },
    {
      "cell_type": "code",
      "metadata": {
        "id": "X2pE7pa_u7nB",
        "colab": {
          "base_uri": "https://localhost:8080/",
          "height": 206
        },
        "outputId": "d705df04-2bf2-454d-bf07-fee1149f8fd5"
      },
      "source": [
        "\n",
        "col = X_train.drop(['const', 'PaperlessBilling', 'SeniorCitizen',\n",
        "       'PaymentMethod_Credit card (automatic)', 'MultipleLines_No','PaymentMethod_Mailed check'],axis=1)\n",
        "col.head()"
      ],
      "execution_count": 54,
      "outputs": [
        {
          "output_type": "execute_result",
          "data": {
            "text/html": [
              "<div>\n",
              "<style scoped>\n",
              "    .dataframe tbody tr th:only-of-type {\n",
              "        vertical-align: middle;\n",
              "    }\n",
              "\n",
              "    .dataframe tbody tr th {\n",
              "        vertical-align: top;\n",
              "    }\n",
              "\n",
              "    .dataframe thead th {\n",
              "        text-align: right;\n",
              "    }\n",
              "</style>\n",
              "<table border=\"1\" class=\"dataframe\">\n",
              "  <thead>\n",
              "    <tr style=\"text-align: right;\">\n",
              "      <th></th>\n",
              "      <th>PhoneService</th>\n",
              "      <th>Contract_One year</th>\n",
              "      <th>Contract_Two year</th>\n",
              "      <th>InternetService_Fiber optic</th>\n",
              "      <th>tenure</th>\n",
              "    </tr>\n",
              "  </thead>\n",
              "  <tbody>\n",
              "    <tr>\n",
              "      <th>879</th>\n",
              "      <td>1</td>\n",
              "      <td>0</td>\n",
              "      <td>0</td>\n",
              "      <td>0</td>\n",
              "      <td>0.023557</td>\n",
              "    </tr>\n",
              "    <tr>\n",
              "      <th>5790</th>\n",
              "      <td>0</td>\n",
              "      <td>0</td>\n",
              "      <td>0</td>\n",
              "      <td>0</td>\n",
              "      <td>0.308744</td>\n",
              "    </tr>\n",
              "    <tr>\n",
              "      <th>6498</th>\n",
              "      <td>1</td>\n",
              "      <td>0</td>\n",
              "      <td>0</td>\n",
              "      <td>1</td>\n",
              "      <td>-1.280157</td>\n",
              "    </tr>\n",
              "    <tr>\n",
              "      <th>880</th>\n",
              "      <td>1</td>\n",
              "      <td>0</td>\n",
              "      <td>0</td>\n",
              "      <td>1</td>\n",
              "      <td>-0.913487</td>\n",
              "    </tr>\n",
              "    <tr>\n",
              "      <th>2784</th>\n",
              "      <td>1</td>\n",
              "      <td>0</td>\n",
              "      <td>0</td>\n",
              "      <td>1</td>\n",
              "      <td>-1.157934</td>\n",
              "    </tr>\n",
              "  </tbody>\n",
              "</table>\n",
              "</div>"
            ],
            "text/plain": [
              "      PhoneService  Contract_One year  ...  InternetService_Fiber optic    tenure\n",
              "879              1                  0  ...                            0  0.023557\n",
              "5790             0                  0  ...                            0  0.308744\n",
              "6498             1                  0  ...                            1 -1.280157\n",
              "880              1                  0  ...                            1 -0.913487\n",
              "2784             1                  0  ...                            1 -1.157934\n",
              "\n",
              "[5 rows x 5 columns]"
            ]
          },
          "metadata": {},
          "execution_count": 54
        }
      ]
    },
    {
      "cell_type": "code",
      "metadata": {
        "colab": {
          "base_uri": "https://localhost:8080/"
        },
        "id": "cOriW15tqOhu",
        "outputId": "f6326d03-a00f-447f-f736-ae39b2bfa477"
      },
      "source": [
        "y_train.shape"
      ],
      "execution_count": 55,
      "outputs": [
        {
          "output_type": "execute_result",
          "data": {
            "text/plain": [
              "(4922,)"
            ]
          },
          "metadata": {},
          "execution_count": 55
        }
      ]
    },
    {
      "cell_type": "code",
      "metadata": {
        "colab": {
          "base_uri": "https://localhost:8080/"
        },
        "id": "79ZR44l50amC",
        "outputId": "895b431f-0977-47df-beb3-5e04c40e90db"
      },
      "source": [
        "X_test.shape"
      ],
      "execution_count": 56,
      "outputs": [
        {
          "output_type": "execute_result",
          "data": {
            "text/plain": [
              "(2110, 11)"
            ]
          },
          "metadata": {},
          "execution_count": 56
        }
      ]
    },
    {
      "cell_type": "code",
      "metadata": {
        "id": "8R9fLVslu7nB",
        "colab": {
          "base_uri": "https://localhost:8080/"
        },
        "outputId": "248951ac-5af9-46c6-a0ef-29f74e71a4dc"
      },
      "source": [
        "\n",
        "\n",
        "logsk =LogisticRegression()\n",
        "\n",
        "\n",
        "logsk.fit(col,y_train)"
      ],
      "execution_count": 57,
      "outputs": [
        {
          "output_type": "execute_result",
          "data": {
            "text/plain": [
              "LogisticRegression()"
            ]
          },
          "metadata": {},
          "execution_count": 57
        }
      ]
    },
    {
      "cell_type": "code",
      "metadata": {
        "id": "gMqioPKXu7nB",
        "colab": {
          "base_uri": "https://localhost:8080/",
          "height": 362
        },
        "outputId": "47d8ef8e-9d2f-4738-c984-c2d11a0f9e81"
      },
      "source": [
        "\n",
        "X_train, X_test, y_train, y_test = train_test_split(X, y, train_size=0.7, random_state=100)\n",
        "logm3 = sm.Logit(y_train,col)\n",
        "\n",
        "res=logm3.fit()\n",
        "res.summary()"
      ],
      "execution_count": 58,
      "outputs": [
        {
          "output_type": "stream",
          "name": "stdout",
          "text": [
            "Optimization terminated successfully.\n",
            "         Current function value: 0.435736\n",
            "         Iterations 8\n"
          ]
        },
        {
          "output_type": "execute_result",
          "data": {
            "text/html": [
              "<table class=\"simpletable\">\n",
              "<caption>Logit Regression Results</caption>\n",
              "<tr>\n",
              "  <th>Dep. Variable:</th>         <td>Churn</td>      <th>  No. Observations:  </th>   <td>  4922</td>  \n",
              "</tr>\n",
              "<tr>\n",
              "  <th>Model:</th>                 <td>Logit</td>      <th>  Df Residuals:      </th>   <td>  4917</td>  \n",
              "</tr>\n",
              "<tr>\n",
              "  <th>Method:</th>                 <td>MLE</td>       <th>  Df Model:          </th>   <td>     4</td>  \n",
              "</tr>\n",
              "<tr>\n",
              "  <th>Date:</th>            <td>Thu, 25 Nov 2021</td> <th>  Pseudo R-squ.:     </th>   <td>0.2417</td>  \n",
              "</tr>\n",
              "<tr>\n",
              "  <th>Time:</th>                <td>16:13:14</td>     <th>  Log-Likelihood:    </th>  <td> -2144.7</td> \n",
              "</tr>\n",
              "<tr>\n",
              "  <th>converged:</th>             <td>True</td>       <th>  LL-Null:           </th>  <td> -2828.2</td> \n",
              "</tr>\n",
              "<tr>\n",
              "  <th>Covariance Type:</th>     <td>nonrobust</td>    <th>  LLR p-value:       </th> <td>1.009e-294</td>\n",
              "</tr>\n",
              "</table>\n",
              "<table class=\"simpletable\">\n",
              "<tr>\n",
              "               <td></td>                  <th>coef</th>     <th>std err</th>      <th>z</th>      <th>P>|z|</th>  <th>[0.025</th>    <th>0.975]</th>  \n",
              "</tr>\n",
              "<tr>\n",
              "  <th>PhoneService</th>                <td>   -1.6604</td> <td>    0.085</td> <td>  -19.428</td> <td> 0.000</td> <td>   -1.828</td> <td>   -1.493</td>\n",
              "</tr>\n",
              "<tr>\n",
              "  <th>Contract_One year</th>           <td>   -1.2033</td> <td>    0.115</td> <td>  -10.497</td> <td> 0.000</td> <td>   -1.428</td> <td>   -0.979</td>\n",
              "</tr>\n",
              "<tr>\n",
              "  <th>Contract_Two year</th>           <td>   -2.1243</td> <td>    0.192</td> <td>  -11.050</td> <td> 0.000</td> <td>   -2.501</td> <td>   -1.748</td>\n",
              "</tr>\n",
              "<tr>\n",
              "  <th>InternetService_Fiber optic</th> <td>    1.6316</td> <td>    0.089</td> <td>   18.334</td> <td> 0.000</td> <td>    1.457</td> <td>    1.806</td>\n",
              "</tr>\n",
              "<tr>\n",
              "  <th>tenure</th>                      <td>   -0.6128</td> <td>    0.053</td> <td>  -11.648</td> <td> 0.000</td> <td>   -0.716</td> <td>   -0.510</td>\n",
              "</tr>\n",
              "</table>"
            ],
            "text/plain": [
              "<class 'statsmodels.iolib.summary.Summary'>\n",
              "\"\"\"\n",
              "                           Logit Regression Results                           \n",
              "==============================================================================\n",
              "Dep. Variable:                  Churn   No. Observations:                 4922\n",
              "Model:                          Logit   Df Residuals:                     4917\n",
              "Method:                           MLE   Df Model:                            4\n",
              "Date:                Thu, 25 Nov 2021   Pseudo R-squ.:                  0.2417\n",
              "Time:                        16:13:14   Log-Likelihood:                -2144.7\n",
              "converged:                       True   LL-Null:                       -2828.2\n",
              "Covariance Type:            nonrobust   LLR p-value:                1.009e-294\n",
              "===============================================================================================\n",
              "                                  coef    std err          z      P>|z|      [0.025      0.975]\n",
              "-----------------------------------------------------------------------------------------------\n",
              "PhoneService                   -1.6604      0.085    -19.428      0.000      -1.828      -1.493\n",
              "Contract_One year              -1.2033      0.115    -10.497      0.000      -1.428      -0.979\n",
              "Contract_Two year              -2.1243      0.192    -11.050      0.000      -2.501      -1.748\n",
              "InternetService_Fiber optic     1.6316      0.089     18.334      0.000       1.457       1.806\n",
              "tenure                         -0.6128      0.053    -11.648      0.000      -0.716      -0.510\n",
              "===============================================================================================\n",
              "\"\"\""
            ]
          },
          "metadata": {},
          "execution_count": 58
        }
      ]
    },
    {
      "cell_type": "code",
      "metadata": {
        "id": "D4sxNO4nu7nC",
        "colab": {
          "base_uri": "https://localhost:8080/"
        },
        "outputId": "17285e0a-e121-4089-c706-4c0c8890fe37"
      },
      "source": [
        "\n",
        "y_pred =  res.predict(col)\n",
        "y_pred.head()"
      ],
      "execution_count": 59,
      "outputs": [
        {
          "output_type": "execute_result",
          "data": {
            "text/plain": [
              "879     0.157780\n",
              "5790    0.452844\n",
              "6498    0.680409\n",
              "880     0.629709\n",
              "2784    0.663908\n",
              "dtype: float64"
            ]
          },
          "metadata": {},
          "execution_count": 59
        }
      ]
    },
    {
      "cell_type": "code",
      "metadata": {
        "id": "5HbotWpIu7nC",
        "colab": {
          "base_uri": "https://localhost:8080/"
        },
        "outputId": "e9a4ee42-90fb-4bdc-a51e-15668774ae03"
      },
      "source": [
        "\n",
        "y_pred_df = y_pred.values.reshape(-1)\n",
        "y_pred_df"
      ],
      "execution_count": 60,
      "outputs": [
        {
          "output_type": "execute_result",
          "data": {
            "text/plain": [
              "array([0.1577798 , 0.4528435 , 0.68040914, ..., 0.11162219, 0.10714298,\n",
              "       0.1577798 ])"
            ]
          },
          "metadata": {},
          "execution_count": 60
        }
      ]
    },
    {
      "cell_type": "code",
      "metadata": {
        "id": "k5L1Vlxlu7nC"
      },
      "source": [
        "\n",
        "y_test_df = pd.DataFrame({'Churn':y_train.values, 'Churn_Prob':y_pred_df})"
      ],
      "execution_count": 61,
      "outputs": []
    },
    {
      "cell_type": "code",
      "metadata": {
        "id": "LzQUyaSru7nC",
        "colab": {
          "base_uri": "https://localhost:8080/",
          "height": 206
        },
        "outputId": "b7cc18f3-7f3c-49f0-8b5e-29087ed7139a"
      },
      "source": [
        "\n",
        "y_test_df['CustID'] = y_train.index\n",
        "y_test_df.head()"
      ],
      "execution_count": 62,
      "outputs": [
        {
          "output_type": "execute_result",
          "data": {
            "text/html": [
              "<div>\n",
              "<style scoped>\n",
              "    .dataframe tbody tr th:only-of-type {\n",
              "        vertical-align: middle;\n",
              "    }\n",
              "\n",
              "    .dataframe tbody tr th {\n",
              "        vertical-align: top;\n",
              "    }\n",
              "\n",
              "    .dataframe thead th {\n",
              "        text-align: right;\n",
              "    }\n",
              "</style>\n",
              "<table border=\"1\" class=\"dataframe\">\n",
              "  <thead>\n",
              "    <tr style=\"text-align: right;\">\n",
              "      <th></th>\n",
              "      <th>Churn</th>\n",
              "      <th>Churn_Prob</th>\n",
              "      <th>CustID</th>\n",
              "    </tr>\n",
              "  </thead>\n",
              "  <tbody>\n",
              "    <tr>\n",
              "      <th>0</th>\n",
              "      <td>0</td>\n",
              "      <td>0.157780</td>\n",
              "      <td>879</td>\n",
              "    </tr>\n",
              "    <tr>\n",
              "      <th>1</th>\n",
              "      <td>0</td>\n",
              "      <td>0.452844</td>\n",
              "      <td>5790</td>\n",
              "    </tr>\n",
              "    <tr>\n",
              "      <th>2</th>\n",
              "      <td>1</td>\n",
              "      <td>0.680409</td>\n",
              "      <td>6498</td>\n",
              "    </tr>\n",
              "    <tr>\n",
              "      <th>3</th>\n",
              "      <td>1</td>\n",
              "      <td>0.629709</td>\n",
              "      <td>880</td>\n",
              "    </tr>\n",
              "    <tr>\n",
              "      <th>4</th>\n",
              "      <td>1</td>\n",
              "      <td>0.663908</td>\n",
              "      <td>2784</td>\n",
              "    </tr>\n",
              "  </tbody>\n",
              "</table>\n",
              "</div>"
            ],
            "text/plain": [
              "   Churn  Churn_Prob  CustID\n",
              "0      0    0.157780     879\n",
              "1      0    0.452844    5790\n",
              "2      1    0.680409    6498\n",
              "3      1    0.629709     880\n",
              "4      1    0.663908    2784"
            ]
          },
          "metadata": {},
          "execution_count": 62
        }
      ]
    },
    {
      "cell_type": "code",
      "metadata": {
        "id": "YZnqxJ_Ou7nD"
      },
      "source": [
        "\n",
        "y_test_df['predicted'] =y_test_df.Churn_Prob.map(lambda x: 1 if x > 0.5 else 0)\n"
      ],
      "execution_count": 63,
      "outputs": []
    },
    {
      "cell_type": "code",
      "metadata": {
        "id": "1Lq7Zju7u7nD",
        "colab": {
          "base_uri": "https://localhost:8080/",
          "height": 206
        },
        "outputId": "4c0b017d-cdda-432b-a03c-c03b4c1f6df8"
      },
      "source": [
        "\n",
        "y_test_df.head()\n"
      ],
      "execution_count": 64,
      "outputs": [
        {
          "output_type": "execute_result",
          "data": {
            "text/html": [
              "<div>\n",
              "<style scoped>\n",
              "    .dataframe tbody tr th:only-of-type {\n",
              "        vertical-align: middle;\n",
              "    }\n",
              "\n",
              "    .dataframe tbody tr th {\n",
              "        vertical-align: top;\n",
              "    }\n",
              "\n",
              "    .dataframe thead th {\n",
              "        text-align: right;\n",
              "    }\n",
              "</style>\n",
              "<table border=\"1\" class=\"dataframe\">\n",
              "  <thead>\n",
              "    <tr style=\"text-align: right;\">\n",
              "      <th></th>\n",
              "      <th>Churn</th>\n",
              "      <th>Churn_Prob</th>\n",
              "      <th>CustID</th>\n",
              "      <th>predicted</th>\n",
              "    </tr>\n",
              "  </thead>\n",
              "  <tbody>\n",
              "    <tr>\n",
              "      <th>0</th>\n",
              "      <td>0</td>\n",
              "      <td>0.157780</td>\n",
              "      <td>879</td>\n",
              "      <td>0</td>\n",
              "    </tr>\n",
              "    <tr>\n",
              "      <th>1</th>\n",
              "      <td>0</td>\n",
              "      <td>0.452844</td>\n",
              "      <td>5790</td>\n",
              "      <td>0</td>\n",
              "    </tr>\n",
              "    <tr>\n",
              "      <th>2</th>\n",
              "      <td>1</td>\n",
              "      <td>0.680409</td>\n",
              "      <td>6498</td>\n",
              "      <td>1</td>\n",
              "    </tr>\n",
              "    <tr>\n",
              "      <th>3</th>\n",
              "      <td>1</td>\n",
              "      <td>0.629709</td>\n",
              "      <td>880</td>\n",
              "      <td>1</td>\n",
              "    </tr>\n",
              "    <tr>\n",
              "      <th>4</th>\n",
              "      <td>1</td>\n",
              "      <td>0.663908</td>\n",
              "      <td>2784</td>\n",
              "      <td>1</td>\n",
              "    </tr>\n",
              "  </tbody>\n",
              "</table>\n",
              "</div>"
            ],
            "text/plain": [
              "   Churn  Churn_Prob  CustID  predicted\n",
              "0      0    0.157780     879          0\n",
              "1      0    0.452844    5790          0\n",
              "2      1    0.680409    6498          1\n",
              "3      1    0.629709     880          1\n",
              "4      1    0.663908    2784          1"
            ]
          },
          "metadata": {},
          "execution_count": 64
        }
      ]
    },
    {
      "cell_type": "code",
      "metadata": {
        "id": "G0O_d_iqu7nE"
      },
      "source": [
        "\n",
        "from sklearn import metrics"
      ],
      "execution_count": 65,
      "outputs": []
    },
    {
      "cell_type": "code",
      "metadata": {
        "id": "j1SHXvb2u7nE",
        "colab": {
          "base_uri": "https://localhost:8080/"
        },
        "outputId": "53e4a367-7e3f-4685-d9fa-6ed18dcb2f14"
      },
      "source": [
        "\n",
        "confusion = metrics.confusion_matrix(y_test_df.Churn, y_test_df.predicted )\n",
        "print(confusion)\n"
      ],
      "execution_count": 66,
      "outputs": [
        {
          "output_type": "stream",
          "name": "stdout",
          "text": [
            "[[3128  507]\n",
            " [ 550  737]]\n"
          ]
        }
      ]
    },
    {
      "cell_type": "code",
      "metadata": {
        "id": "Z0ek6CpJu7nE",
        "colab": {
          "base_uri": "https://localhost:8080/"
        },
        "outputId": "c135acd3-63dc-48b2-98a3-5b1a3437c050"
      },
      "source": [
        "\n",
        "print(metrics.accuracy_score(y_test_df.Churn, y_test_df.predicted))"
      ],
      "execution_count": 67,
      "outputs": [
        {
          "output_type": "stream",
          "name": "stdout",
          "text": [
            "0.7852498984152784\n"
          ]
        }
      ]
    },
    {
      "cell_type": "code",
      "metadata": {
        "id": "juihDt1tu7nE",
        "colab": {
          "base_uri": "https://localhost:8080/"
        },
        "outputId": "72c68d6d-1042-4071-b2c6-315211b00b59"
      },
      "source": [
        "\n",
        "\n",
        "TP =  confusion[0,0]\n",
        "print(TP)\n",
        "TN = confusion[1,0]\n",
        "print(TN)\n",
        "FP = confusion[0,1]\n",
        "print(FP)\n",
        "FN = confusion[1,1]\n",
        "print(FN)"
      ],
      "execution_count": 68,
      "outputs": [
        {
          "output_type": "stream",
          "name": "stdout",
          "text": [
            "3128\n",
            "550\n",
            "507\n",
            "737\n"
          ]
        }
      ]
    },
    {
      "cell_type": "code",
      "metadata": {
        "id": "DgC5BOdHu7nE"
      },
      "source": [
        "\n",
        "sensitivity = TP/(TP+TN)"
      ],
      "execution_count": 69,
      "outputs": []
    },
    {
      "cell_type": "code",
      "metadata": {
        "id": "B2-XTj8lu7nF",
        "colab": {
          "base_uri": "https://localhost:8080/"
        },
        "outputId": "04a628c2-3ca4-4974-b275-8c2ea2c733b5"
      },
      "source": [
        "\n",
        "print(sensitivity)"
      ],
      "execution_count": 70,
      "outputs": [
        {
          "output_type": "stream",
          "name": "stdout",
          "text": [
            "0.8504622077215879\n"
          ]
        }
      ]
    },
    {
      "cell_type": "code",
      "metadata": {
        "id": "cpb5f1-ou7nF",
        "colab": {
          "base_uri": "https://localhost:8080/"
        },
        "outputId": "c87c522c-3dfc-4b20-b557-0b379309dee5"
      },
      "source": [
        "\n",
        "FPR =FP/(FN+FP)\n",
        "print(FPR)"
      ],
      "execution_count": 71,
      "outputs": [
        {
          "output_type": "stream",
          "name": "stdout",
          "text": [
            "0.407556270096463\n"
          ]
        }
      ]
    },
    {
      "cell_type": "code",
      "metadata": {
        "id": "mE8WvJoFu7nF",
        "colab": {
          "base_uri": "https://localhost:8080/"
        },
        "outputId": "513c48ac-64c4-4fd7-88cf-fa5e9c60c5dd"
      },
      "source": [
        "\n",
        "print(TP/(TP+FP))"
      ],
      "execution_count": 72,
      "outputs": [
        {
          "output_type": "stream",
          "name": "stdout",
          "text": [
            "0.8605226960110042\n"
          ]
        }
      ]
    },
    {
      "cell_type": "code",
      "metadata": {
        "id": "JqCJnnFmu7nF",
        "colab": {
          "base_uri": "https://localhost:8080/"
        },
        "outputId": "560d944d-1a9e-4201-f647-39f6fae008f7"
      },
      "source": [
        "\n",
        "print(TP/(TP+FN))"
      ],
      "execution_count": 73,
      "outputs": [
        {
          "output_type": "stream",
          "name": "stdout",
          "text": [
            "0.8093143596377749\n"
          ]
        }
      ]
    },
    {
      "cell_type": "code",
      "metadata": {
        "id": "O7C9nwiOu7nF",
        "colab": {
          "base_uri": "https://localhost:8080/"
        },
        "outputId": "a85d6af8-2c19-41b2-8025-34d41d7670ec"
      },
      "source": [
        "\n",
        "from sklearn.metrics import classification_report\n",
        "\n",
        "print(classification_report(y_test_df.Churn,y_test_df.predicted, labels=[0,1]))"
      ],
      "execution_count": 74,
      "outputs": [
        {
          "output_type": "stream",
          "name": "stdout",
          "text": [
            "              precision    recall  f1-score   support\n",
            "\n",
            "           0       0.85      0.86      0.86      3635\n",
            "           1       0.59      0.57      0.58      1287\n",
            "\n",
            "    accuracy                           0.79      4922\n",
            "   macro avg       0.72      0.72      0.72      4922\n",
            "weighted avg       0.78      0.79      0.78      4922\n",
            "\n"
          ]
        }
      ]
    },
    {
      "cell_type": "code",
      "metadata": {
        "id": "VWzYUvLdu7nG"
      },
      "source": [
        "\n",
        "\n",
        "def draw_roc( actual, probs ):\n",
        "    fpr, tpr, thresholds = metrics.roc_curve( actual, probs,\n",
        "                                              drop_intermediate = False )\n",
        "    auc_score = metrics.roc_auc_score( actual, probs )\n",
        "    plt.figure(figsize=(6, 4))\n",
        "    plt.plot( fpr, tpr, label='ROC curve (area = %0.2f)' % auc_score )\n",
        "    plt.plot([0, 1], [0, 1], 'k--')\n",
        "    plt.xlim([0.0, 1.0])\n",
        "    plt.ylim([0.0, 1.05])\n",
        "    plt.xlabel('False Positive Rate or [1 - True Negative Rate]')\n",
        "    plt.ylabel('True Positive Rate')\n",
        "    plt.title('Receiver operating characteristic example')\n",
        "    plt.legend(loc=\"lower right\")\n",
        "    plt.show()\n",
        "\n",
        "    return fpr, tpr, thresholds"
      ],
      "execution_count": 75,
      "outputs": []
    },
    {
      "cell_type": "code",
      "metadata": {
        "id": "joBqWe6ru7nG",
        "colab": {
          "base_uri": "https://localhost:8080/",
          "height": 347
        },
        "outputId": "4e2a2024-130c-44e5-f281-d85b07440300"
      },
      "source": [
        "\n",
        "draw_roc(y_test_df.Churn,y_test_df.predicted)\n"
      ],
      "execution_count": 76,
      "outputs": [
        {
          "output_type": "display_data",
          "data": {
            "image/png": "[encoded data removed]",
            "text/plain": [
              "<Figure size 432x288 with 1 Axes>"
            ]
          },
          "metadata": {
            "needs_background": "light"
          }
        },
        {
          "output_type": "execute_result",
          "data": {
            "text/plain": [
              "(array([0.       , 0.1394773, 1.       ]),\n",
              " array([0.        , 0.57264957, 1.        ]),\n",
              " array([2, 1, 0]))"
            ]
          },
          "metadata": {},
          "execution_count": 76
        }
      ]
    },
    {
      "cell_type": "code",
      "metadata": {
        "id": "wpQUWGvMu7nH",
        "colab": {
          "base_uri": "https://localhost:8080/",
          "height": 206
        },
        "outputId": "135df193-bbd0-48f8-d135-906deec05330"
      },
      "source": [
        " \n",
        "\n",
        "numbers = [float(x)/10 for x in range(10)]\n",
        "for i in numbers:\n",
        "    y_test_df[i]= y_test_df.predicted.map(lambda x: 1 if x > i else 0)\n",
        "\n",
        "    \n",
        "\n",
        "y_test_df.head()"
      ],
      "execution_count": 77,
      "outputs": [
        {
          "output_type": "execute_result",
          "data": {
            "text/html": [
              "<div>\n",
              "<style scoped>\n",
              "    .dataframe tbody tr th:only-of-type {\n",
              "        vertical-align: middle;\n",
              "    }\n",
              "\n",
              "    .dataframe tbody tr th {\n",
              "        vertical-align: top;\n",
              "    }\n",
              "\n",
              "    .dataframe thead th {\n",
              "        text-align: right;\n",
              "    }\n",
              "</style>\n",
              "<table border=\"1\" class=\"dataframe\">\n",
              "  <thead>\n",
              "    <tr style=\"text-align: right;\">\n",
              "      <th></th>\n",
              "      <th>Churn</th>\n",
              "      <th>Churn_Prob</th>\n",
              "      <th>CustID</th>\n",
              "      <th>predicted</th>\n",
              "      <th>0.0</th>\n",
              "      <th>0.1</th>\n",
              "      <th>0.2</th>\n",
              "      <th>0.3</th>\n",
              "      <th>0.4</th>\n",
              "      <th>0.5</th>\n",
              "      <th>0.6</th>\n",
              "      <th>0.7</th>\n",
              "      <th>0.8</th>\n",
              "      <th>0.9</th>\n",
              "    </tr>\n",
              "  </thead>\n",
              "  <tbody>\n",
              "    <tr>\n",
              "      <th>0</th>\n",
              "      <td>0</td>\n",
              "      <td>0.157780</td>\n",
              "      <td>879</td>\n",
              "      <td>0</td>\n",
              "      <td>0</td>\n",
              "      <td>0</td>\n",
              "      <td>0</td>\n",
              "      <td>0</td>\n",
              "      <td>0</td>\n",
              "      <td>0</td>\n",
              "      <td>0</td>\n",
              "      <td>0</td>\n",
              "      <td>0</td>\n",
              "      <td>0</td>\n",
              "    </tr>\n",
              "    <tr>\n",
              "      <th>1</th>\n",
              "      <td>0</td>\n",
              "      <td>0.452844</td>\n",
              "      <td>5790</td>\n",
              "      <td>0</td>\n",
              "      <td>0</td>\n",
              "      <td>0</td>\n",
              "      <td>0</td>\n",
              "      <td>0</td>\n",
              "      <td>0</td>\n",
              "      <td>0</td>\n",
              "      <td>0</td>\n",
              "      <td>0</td>\n",
              "      <td>0</td>\n",
              "      <td>0</td>\n",
              "    </tr>\n",
              "    <tr>\n",
              "      <th>2</th>\n",
              "      <td>1</td>\n",
              "      <td>0.680409</td>\n",
              "      <td>6498</td>\n",
              "      <td>1</td>\n",
              "      <td>1</td>\n",
              "      <td>1</td>\n",
              "      <td>1</td>\n",
              "      <td>1</td>\n",
              "      <td>1</td>\n",
              "      <td>1</td>\n",
              "      <td>1</td>\n",
              "      <td>1</td>\n",
              "      <td>1</td>\n",
              "      <td>1</td>\n",
              "    </tr>\n",
              "    <tr>\n",
              "      <th>3</th>\n",
              "      <td>1</td>\n",
              "      <td>0.629709</td>\n",
              "      <td>880</td>\n",
              "      <td>1</td>\n",
              "      <td>1</td>\n",
              "      <td>1</td>\n",
              "      <td>1</td>\n",
              "      <td>1</td>\n",
              "      <td>1</td>\n",
              "      <td>1</td>\n",
              "      <td>1</td>\n",
              "      <td>1</td>\n",
              "      <td>1</td>\n",
              "      <td>1</td>\n",
              "    </tr>\n",
              "    <tr>\n",
              "      <th>4</th>\n",
              "      <td>1</td>\n",
              "      <td>0.663908</td>\n",
              "      <td>2784</td>\n",
              "      <td>1</td>\n",
              "      <td>1</td>\n",
              "      <td>1</td>\n",
              "      <td>1</td>\n",
              "      <td>1</td>\n",
              "      <td>1</td>\n",
              "      <td>1</td>\n",
              "      <td>1</td>\n",
              "      <td>1</td>\n",
              "      <td>1</td>\n",
              "      <td>1</td>\n",
              "    </tr>\n",
              "  </tbody>\n",
              "</table>\n",
              "</div>"
            ],
            "text/plain": [
              "   Churn  Churn_Prob  CustID  predicted  0.0  0.1  ...  0.4  0.5  0.6  0.7  0.8  0.9\n",
              "0      0    0.157780     879          0    0    0  ...    0    0    0    0    0    0\n",
              "1      0    0.452844    5790          0    0    0  ...    0    0    0    0    0    0\n",
              "2      1    0.680409    6498          1    1    1  ...    1    1    1    1    1    1\n",
              "3      1    0.629709     880          1    1    1  ...    1    1    1    1    1    1\n",
              "4      1    0.663908    2784          1    1    1  ...    1    1    1    1    1    1\n",
              "\n",
              "[5 rows x 14 columns]"
            ]
          },
          "metadata": {},
          "execution_count": 77
        }
      ]
    },
    {
      "cell_type": "code",
      "metadata": {
        "id": "7_6yrdIUu7nH",
        "colab": {
          "base_uri": "https://localhost:8080/"
        },
        "outputId": "9ec095e6-b8f8-45fa-b89d-684d4e42e64c"
      },
      "source": [
        "\n",
        "cutoff_df =  pd.DataFrame( columns = ['prob','accuracy','sensi','speci'])\n",
        "\n",
        "num = [0.0,0.1,0.2,0.3,0.4,0.5,0.6,0.7,0.8,0.9]\n",
        "\n",
        "\n",
        "for i in num:\n",
        "    \n",
        "    cm1 =metrics.confusion_matrix( y_test_df.Churn,  y_test_df[i] )\n",
        "    \n",
        "    \n",
        "    total1=sum(sum(cm1))\n",
        "    \n",
        "    \n",
        "    accuracy = (cm1[0,0]+cm1[1,1])/total1\n",
        "    \n",
        "    speci = cm1[0,0]/(cm1[0,0]+cm1[0,1])\n",
        "    \n",
        "    sensi = cm1[1,1]/(cm1[1,0]+cm1[1,1])\n",
        "    \n",
        "    cutoff_df.loc[i] =[ i ,accuracy,sensi,speci]\n",
        "\n",
        "print(cutoff_df)"
      ],
      "execution_count": 78,
      "outputs": [
        {
          "output_type": "stream",
          "name": "stdout",
          "text": [
            "     prob  accuracy    sensi     speci\n",
            "0.0   0.0   0.78525  0.57265  0.860523\n",
            "0.1   0.1   0.78525  0.57265  0.860523\n",
            "0.2   0.2   0.78525  0.57265  0.860523\n",
            "0.3   0.3   0.78525  0.57265  0.860523\n",
            "0.4   0.4   0.78525  0.57265  0.860523\n",
            "0.5   0.5   0.78525  0.57265  0.860523\n",
            "0.6   0.6   0.78525  0.57265  0.860523\n",
            "0.7   0.7   0.78525  0.57265  0.860523\n",
            "0.8   0.8   0.78525  0.57265  0.860523\n",
            "0.9   0.9   0.78525  0.57265  0.860523\n"
          ]
        }
      ]
    },
    {
      "cell_type": "code",
      "metadata": {
        "id": "1PMG3xS4u7nH",
        "colab": {
          "base_uri": "https://localhost:8080/",
          "height": 279
        },
        "outputId": "86fe2aeb-a48f-444a-ecdb-ecd6ca3b4751"
      },
      "source": [
        "\n",
        "cutoff_df.plot.line(x='prob', y=['accuracy','sensi','speci'])\n",
        "plt.show()"
      ],
      "execution_count": 79,
      "outputs": [
        {
          "output_type": "display_data",
          "data": {
            "image/png": "[encoded data removed]",
            "text/plain": [
              "<Figure size 432x288 with 1 Axes>"
            ]
          },
          "metadata": {
            "needs_background": "light"
          }
        }
      ]
    },
    {
      "cell_type": "code",
      "metadata": {
        "id": "s_n5huLiu7nI"
      },
      "source": [
        "\n",
        "\n",
        "y_test_df['final_predicted'] =  y_test_df.predicted.map( lambda x: 1 if x > 0.3 else 0)"
      ],
      "execution_count": 80,
      "outputs": []
    },
    {
      "cell_type": "code",
      "metadata": {
        "id": "_7pHohJCu7nI",
        "colab": {
          "base_uri": "https://localhost:8080/",
          "height": 206
        },
        "outputId": "85f9a7d6-ed4e-41b1-b861-1634f99ca076"
      },
      "source": [
        "\n",
        "y_test_df.head()"
      ],
      "execution_count": 81,
      "outputs": [
        {
          "output_type": "execute_result",
          "data": {
            "text/html": [
              "<div>\n",
              "<style scoped>\n",
              "    .dataframe tbody tr th:only-of-type {\n",
              "        vertical-align: middle;\n",
              "    }\n",
              "\n",
              "    .dataframe tbody tr th {\n",
              "        vertical-align: top;\n",
              "    }\n",
              "\n",
              "    .dataframe thead th {\n",
              "        text-align: right;\n",
              "    }\n",
              "</style>\n",
              "<table border=\"1\" class=\"dataframe\">\n",
              "  <thead>\n",
              "    <tr style=\"text-align: right;\">\n",
              "      <th></th>\n",
              "      <th>Churn</th>\n",
              "      <th>Churn_Prob</th>\n",
              "      <th>CustID</th>\n",
              "      <th>predicted</th>\n",
              "      <th>0.0</th>\n",
              "      <th>0.1</th>\n",
              "      <th>0.2</th>\n",
              "      <th>0.3</th>\n",
              "      <th>0.4</th>\n",
              "      <th>0.5</th>\n",
              "      <th>0.6</th>\n",
              "      <th>0.7</th>\n",
              "      <th>0.8</th>\n",
              "      <th>0.9</th>\n",
              "      <th>final_predicted</th>\n",
              "    </tr>\n",
              "  </thead>\n",
              "  <tbody>\n",
              "    <tr>\n",
              "      <th>0</th>\n",
              "      <td>0</td>\n",
              "      <td>0.157780</td>\n",
              "      <td>879</td>\n",
              "      <td>0</td>\n",
              "      <td>0</td>\n",
              "      <td>0</td>\n",
              "      <td>0</td>\n",
              "      <td>0</td>\n",
              "      <td>0</td>\n",
              "      <td>0</td>\n",
              "      <td>0</td>\n",
              "      <td>0</td>\n",
              "      <td>0</td>\n",
              "      <td>0</td>\n",
              "      <td>0</td>\n",
              "    </tr>\n",
              "    <tr>\n",
              "      <th>1</th>\n",
              "      <td>0</td>\n",
              "      <td>0.452844</td>\n",
              "      <td>5790</td>\n",
              "      <td>0</td>\n",
              "      <td>0</td>\n",
              "      <td>0</td>\n",
              "      <td>0</td>\n",
              "      <td>0</td>\n",
              "      <td>0</td>\n",
              "      <td>0</td>\n",
              "      <td>0</td>\n",
              "      <td>0</td>\n",
              "      <td>0</td>\n",
              "      <td>0</td>\n",
              "      <td>0</td>\n",
              "    </tr>\n",
              "    <tr>\n",
              "      <th>2</th>\n",
              "      <td>1</td>\n",
              "      <td>0.680409</td>\n",
              "      <td>6498</td>\n",
              "      <td>1</td>\n",
              "      <td>1</td>\n",
              "      <td>1</td>\n",
              "      <td>1</td>\n",
              "      <td>1</td>\n",
              "      <td>1</td>\n",
              "      <td>1</td>\n",
              "      <td>1</td>\n",
              "      <td>1</td>\n",
              "      <td>1</td>\n",
              "      <td>1</td>\n",
              "      <td>1</td>\n",
              "    </tr>\n",
              "    <tr>\n",
              "      <th>3</th>\n",
              "      <td>1</td>\n",
              "      <td>0.629709</td>\n",
              "      <td>880</td>\n",
              "      <td>1</td>\n",
              "      <td>1</td>\n",
              "      <td>1</td>\n",
              "      <td>1</td>\n",
              "      <td>1</td>\n",
              "      <td>1</td>\n",
              "      <td>1</td>\n",
              "      <td>1</td>\n",
              "      <td>1</td>\n",
              "      <td>1</td>\n",
              "      <td>1</td>\n",
              "      <td>1</td>\n",
              "    </tr>\n",
              "    <tr>\n",
              "      <th>4</th>\n",
              "      <td>1</td>\n",
              "      <td>0.663908</td>\n",
              "      <td>2784</td>\n",
              "      <td>1</td>\n",
              "      <td>1</td>\n",
              "      <td>1</td>\n",
              "      <td>1</td>\n",
              "      <td>1</td>\n",
              "      <td>1</td>\n",
              "      <td>1</td>\n",
              "      <td>1</td>\n",
              "      <td>1</td>\n",
              "      <td>1</td>\n",
              "      <td>1</td>\n",
              "      <td>1</td>\n",
              "    </tr>\n",
              "  </tbody>\n",
              "</table>\n",
              "</div>"
            ],
            "text/plain": [
              "   Churn  Churn_Prob  CustID  predicted  ...  0.7  0.8  0.9  final_predicted\n",
              "0      0    0.157780     879          0  ...    0    0    0                0\n",
              "1      0    0.452844    5790          0  ...    0    0    0                0\n",
              "2      1    0.680409    6498          1  ...    1    1    1                1\n",
              "3      1    0.629709     880          1  ...    1    1    1                1\n",
              "4      1    0.663908    2784          1  ...    1    1    1                1\n",
              "\n",
              "[5 rows x 15 columns]"
            ]
          },
          "metadata": {},
          "execution_count": 81
        }
      ]
    },
    {
      "cell_type": "code",
      "metadata": {
        "id": "Zvlk8hJuu7nI",
        "colab": {
          "base_uri": "https://localhost:8080/"
        },
        "outputId": "f46915c4-6bfb-4cfc-c9a3-674ece9026f6"
      },
      "source": [
        "\n",
        "metrics.accuracy_score(y_test_df.Churn, y_test_df.final_predicted)"
      ],
      "execution_count": 82,
      "outputs": [
        {
          "output_type": "execute_result",
          "data": {
            "text/plain": [
              "0.7852498984152784"
            ]
          },
          "metadata": {},
          "execution_count": 82
        }
      ]
    },
    {
      "cell_type": "code",
      "metadata": {
        "id": "G7oSDr-Tu7nI"
      },
      "source": [
        "\n",
        "\n",
        "X_train, X_test, y_train, y_test = train_test_split(X, y, train_size=0.7, random_state=100)\n"
      ],
      "execution_count": 83,
      "outputs": []
    },
    {
      "cell_type": "code",
      "metadata": {
        "id": "QBx9hyKgu7nJ"
      },
      "source": [
        "\n",
        "from sklearn.linear_model import LogisticRegression\n",
        "\n",
        "logs2 =LogisticRegression()\n",
        "\n",
        "logs2.fit(X_train,y_train)\n",
        "\n",
        "y_pred= logs2.predict(X_test)"
      ],
      "execution_count": 84,
      "outputs": []
    },
    {
      "cell_type": "code",
      "metadata": {
        "id": "DhUKLlILu7nJ",
        "colab": {
          "base_uri": "https://localhost:8080/"
        },
        "outputId": "fb6710b2-6996-4dc5-bbd7-a956d40f5919"
      },
      "source": [
        "\n",
        "from sklearn.metrics import classification_report\n",
        "print(classification_report(y_pred,y_test, labels=[0,1]))"
      ],
      "execution_count": 85,
      "outputs": [
        {
          "output_type": "stream",
          "name": "stdout",
          "text": [
            "              precision    recall  f1-score   support\n",
            "\n",
            "           0       0.90      0.83      0.86      1651\n",
            "           1       0.52      0.66      0.58       459\n",
            "\n",
            "    accuracy                           0.79      2110\n",
            "   macro avg       0.71      0.74      0.72      2110\n",
            "weighted avg       0.81      0.79      0.80      2110\n",
            "\n"
          ]
        }
      ]
    },
    {
      "cell_type": "code",
      "metadata": {
        "id": "BX3NLiDwu7nJ",
        "colab": {
          "base_uri": "https://localhost:8080/"
        },
        "outputId": "046d3f78-228f-40e8-e7ba-0d3898a9e557"
      },
      "source": [
        "\n",
        "from sklearn.metrics import confusion_matrix\n",
        "confusion =confusion_matrix(y_pred,y_test)\n",
        "print(confusion)"
      ],
      "execution_count": 86,
      "outputs": [
        {
          "output_type": "stream",
          "name": "stdout",
          "text": [
            "[[1370  281]\n",
            " [ 158  301]]\n"
          ]
        }
      ]
    }
  ]
}